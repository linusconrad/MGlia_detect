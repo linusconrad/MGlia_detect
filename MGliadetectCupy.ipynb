{
 "cells": [
  {
   "cell_type": "code",
   "execution_count": 1,
   "id": "bb353085-1a16-4cf7-b074-2a89e98d0c18",
   "metadata": {
    "tags": []
   },
   "outputs": [],
   "source": [
    "# Load libraries for file handling and image crunching\n",
    "import numpy as np\n",
    "import matplotlib.pyplot as plt\n",
    "import cupy as cp\n",
    "\n",
    "import scipy.ndimage as ndicpu\n",
    "import cupyx.scipy.ndimage as ndi\n",
    "\n",
    "import seaborn as sns\n",
    "import pandas as pd\n",
    "# Set matplotlib backend\n",
    "%matplotlib inline \n",
    "\n",
    "import cucim.skimage as skimage\n",
    "# Import the os module\n",
    "import os\n",
    "\n",
    "#fancy gui viewer\n",
    "import napari\n",
    "\n",
    "\n",
    "# import own helper functions to subset and make boxes from coordinates\n",
    "from boxhelpers_cp import *"
   ]
  },
  {
   "cell_type": "code",
   "execution_count": 2,
   "id": "36076747-da8a-4262-996c-0282aa2d85a3",
   "metadata": {
    "tags": []
   },
   "outputs": [],
   "source": [
    "# get imagej API\n",
    "wdpath = os.getcwd()\n",
    "\n",
    "from MGlia_detect_utils import *\n",
    "\n",
    "# grab a testimage\n",
    "testimage = \"C2-220421 otof_iba slide002 mouse195 005.tif\"\n",
    "\n",
    "testimagebrain = \"320763 CNIC.tif\"\n",
    "dirpath = \"./\"\n",
    "\n",
    "filepath = os.path.join(wdpath, testimage)\n",
    "\n",
    "# load the image\n",
    "from skimage.io import imread\n",
    "img = imread(filepath)"
   ]
  },
  {
   "cell_type": "code",
   "execution_count": 3,
   "id": "c2fc6389-c8d1-404d-b085-95093e838a57",
   "metadata": {
    "tags": []
   },
   "outputs": [],
   "source": [
    "# Setup the dimension of the image\n",
    "planestep = 0.3\n",
    "xystep = 0.27500004812500844\n",
    "pixvol =planestep*xystep**2\n"
   ]
  },
  {
   "cell_type": "code",
   "execution_count": 5,
   "id": "df2a63fd-6a2d-4559-bcf1-ec75e7c43942",
   "metadata": {},
   "outputs": [],
   "source": [
    "#convert img to cp array on GPU\n",
    "gpu_img = cp.asarray(img)"
   ]
  },
  {
   "cell_type": "code",
   "execution_count": 6,
   "id": "bb669cd4-a51b-41da-a34f-4c01f49db38b",
   "metadata": {},
   "outputs": [],
   "source": [
    "# run a gaussian filter on GPU\n",
    "filtered = ndi.filters.gaussian_filter(gpu_img, 5).get()"
   ]
  },
  {
   "cell_type": "code",
   "execution_count": 7,
   "id": "d7d1e0eb-f7d3-4be9-9742-b46c0749d554",
   "metadata": {},
   "outputs": [],
   "source": [
    "# define a cube of x microns as a footprint\n",
    "# use the scale and floor division to find the number of pixels in each dimension to use\n",
    "x = 30\n",
    "foot = cp.ones((int(x//planestep)//3, # use a smaller z step to not reject more candidate seeds (purely empirical)\n",
    "               int(x//xystep),\n",
    "               int(x//xystep)))\n"
   ]
  },
  {
   "cell_type": "code",
   "execution_count": 15,
   "id": "f6574c6f-2052-4708-aed2-892b37cc3281",
   "metadata": {},
   "outputs": [],
   "source": [
    "locmax = ndi.maximum_filter(cp.array(filtered), footprint = foot).get()\n",
    "\n",
    "candmask = locmax  == filtered\n",
    "\n",
    "#dilate the seed for plotting\n",
    "candmask_plot = ndi.binary_dilation(cp.array(gpu_candmask), structure = cp.ones((3,10,10))).get()\n"
   ]
  },
  {
   "cell_type": "code",
   "execution_count": 11,
   "id": "7beb4b9b-56a5-4021-b20d-f6e2769834ea",
   "metadata": {},
   "outputs": [],
   "source": [
    "viewer = napari.view_image(img)\n",
    "#new_layer = viewer.add_image(cp.asnumpy(gpu_locmax), opacity = 0.2, colormap = \"red\")\n",
    "new_layer = viewer.add_image(candmask_plot, opacity = 0.5, colormap = \"red\")\n"
   ]
  },
  {
   "cell_type": "code",
   "execution_count": 17,
   "id": "5cdbe27e-60f3-45d8-89cf-3d772c97bf06",
   "metadata": {},
   "outputs": [],
   "source": [
    "# with skimage maximum filter (returns coordinates, not pixels)\n",
    "locmax = skimage.feature.peak_local_max(cp.array(filtered), min_distance=0, footprint = foot).get()\n",
    "\n",
    "#create an empty boolean array of the dimensions of the source img\n",
    "localhigh = np.zeros_like(filtered, dtype=bool)\n",
    "\n",
    "# this will feed the coord to the empty mask\n",
    "localhigh[tuple(locmax.T)] = True"
   ]
  },
  {
   "cell_type": "code",
   "execution_count": 22,
   "id": "8385b500-1f7f-4962-a156-f04b2d136f56",
   "metadata": {},
   "outputs": [],
   "source": [
    "# label the local highs and inspect the seeds generated\n",
    "localhigh_img = ndi.label(cp.array(localhigh))[0].get()\n",
    "\n",
    "localhigh_img_plot = ndi.binary_dilation(cp.array(localhigh_img), structure = cp.ones((3,10,10))).get()"
   ]
  },
  {
   "cell_type": "code",
   "execution_count": 23,
   "id": "f001d83e-7ed6-4e88-9c33-74b429b2dbd6",
   "metadata": {},
   "outputs": [],
   "source": [
    "viewer = napari.view_image(img)\n",
    "new_layer = viewer.add_image(localhigh_img_plot, opacity = 0.2, colormap = \"red\")\n",
    "new_layer = viewer.add_image(localhigh_img, opacity = 0.2, colormap = \"red\")\n"
   ]
  },
  {
   "cell_type": "code",
   "execution_count": 11,
   "id": "b3dafa32-7832-4b40-ade4-fdca026ec7a3",
   "metadata": {},
   "outputs": [],
   "source": [
    "# make a helper function to span a box around a 3d pixel coordinate\n",
    "def seed_to_box(image, coords, npixels):\n",
    "    # subset the box and set pixels to ones\n",
    "    \n",
    "    # the desired box gets spanned in 2 directions, we need to half this\n",
    "    npixels = npixels//2\n",
    "    # image boundaries\n",
    "    boundaries = image.shape\n",
    "    \n",
    "    #print(boundaries)\n",
    "    zstart = coords[0] - npixels\n",
    "    zstop  = coords[0] + npixels\n",
    "    \n",
    "    xstart = coords[1] - npixels\n",
    "    xstop  = coords[1] + npixels\n",
    "    \n",
    "    ystart = coords[2] -npixels\n",
    "    ystop  = coords[2] + npixels\n",
    "    # set fallback if image borders are touched\n",
    "    if zstart < 0:\n",
    "        zstart = 0\n",
    "        \n",
    "    if xstart < 0:\n",
    "        xstart = 0\n",
    "    \n",
    "    if ystart < 0:\n",
    "        ystart = 0\n",
    "    \n",
    "    # set fallback for end being larger than image boundaries\n",
    "    if zstop > boundaries[0]:\n",
    "        zstop = boundaries[0]\n",
    "    \n",
    "    if xstop > boundaries[1]:\n",
    "        xstop = boundaries[1]\n",
    "    \n",
    "    if ystop > boundaries[2]:\n",
    "        ystop = boundaries[2]\n",
    "        \n",
    "    box = cp.zeros_like(image)\n",
    "    # switch on pixels in the box\n",
    "    box[zstart:zstop,xstart:xstop, ystart:ystop] = True \n",
    "    return cp.array(box).astype(bool)"
   ]
  },
  {
   "cell_type": "code",
   "execution_count": 27,
   "id": "5c7adfaf-a3de-450d-89ab-35b4b86ef154",
   "metadata": {},
   "outputs": [],
   "source": [
    "def seed_to_subset(image, coords, npixels):\n",
    "    # subset the box and set pixels to ones\n",
    "    \n",
    "    # the desired box gets spanned in 2 directions, we need to half this\n",
    "    npixels = npixels//2\n",
    "    # image boundaries\n",
    "    boundaries = image.shape\n",
    "    \n",
    "    #print(boundaries)\n",
    "    zstart = coords[0] - npixels\n",
    "    zstop  = coords[0] + npixels\n",
    "    \n",
    "    xstart = coords[1] - npixels\n",
    "    xstop  = coords[1] + npixels\n",
    "    \n",
    "    ystart = coords[2] -npixels\n",
    "    ystop  = coords[2] + npixels\n",
    "    # set fallback if image borders are touched\n",
    "    if zstart < 0:\n",
    "        zstart = 0\n",
    "        \n",
    "    if xstart < 0:\n",
    "        xstart = 0\n",
    "    \n",
    "    if ystart < 0:\n",
    "        ystart = 0\n",
    "    \n",
    "    # set fallback for end being larger than image boundaries\n",
    "    if zstop > boundaries[0]:\n",
    "        zstop = boundaries[0]\n",
    "    \n",
    "    if xstop > boundaries[1]:\n",
    "        xstop = boundaries[1]\n",
    "    \n",
    "    if ystop > boundaries[2]:\n",
    "        ystop = boundaries[2]\n",
    "        \n",
    "    # subset the image + return\n",
    "    imgbox = image[zstart:zstop,xstart:xstop, ystart:ystop]\n",
    "    return cp.array(imgbox)"
   ]
  },
  {
   "cell_type": "code",
   "execution_count": 28,
   "id": "0a150726-e9bc-479d-a3b7-1a9822f6ca7d",
   "metadata": {},
   "outputs": [],
   "source": [
    "subset = seed_to_subset(gpu_img, locmax[100], 50//xystep)\n",
    "\n",
    "viewer = napari.view_image(subset.get())\n"
   ]
  },
  {
   "cell_type": "code",
   "execution_count": 12,
   "id": "5f336311-d787-4a62-929a-5e97f9d9f13f",
   "metadata": {},
   "outputs": [],
   "source": [
    "# test the functions\n",
    "viewer = napari.view_image(img)\n",
    "\n",
    "seed20 = seed_to_box(gpu_img, locmax[20] , 2//xystep)\n",
    "seed20box = seed_to_box(gpu_img, locmax[20] , 100//xystep)\n",
    "\n",
    "new_layer = viewer.add_image(cp.asnumpy(seed20), opacity = 0.2, colormap = \"red\")\n",
    "new_layer = viewer.add_image(cp.asnumpy(seed20box), opacity = 0.2, colormap = \"cyan\")"
   ]
  },
  {
   "cell_type": "code",
   "execution_count": 29,
   "id": "ca41741a-aecd-48af-8071-555e35c615bd",
   "metadata": {},
   "outputs": [],
   "source": [
    "# define helper functions to use for looping over the seeds.\n",
    "\n",
    "# define a function that takes the info for one cell and detects\n",
    "def detect_cell_auto(image, seedcoord, boxcoord, expandpix):\n",
    "    # subset the ROI and calulate thresh based on ROI\n",
    "    ROI = seed_to_subset(image, boxcoord, expandpix)\n",
    "    Thresh = skimage.filters.threshold_otsu(ROI)\n",
    "    \n",
    "    # create a binary image\n",
    "    bin_img = image > Thresh\n",
    "    # floodfill the detected cell\n",
    "    floodseed = tuple((seedcoord[0],seedcoord[1],seedcoord[2]))\n",
    "    cellimg = skimage.morphology.flood(bin_img, floodseed)\n",
    "    return cp.array(cellimg).astype(bool)\n",
    "\n",
    "# define a function that makes a local threshold\n",
    "def find_cell_thresh(image, seed, expandpix):\n",
    "    # subset the ROI and calulate thresh based on ROI\n",
    "    ROI = seed_to_subset(image, seed, expandpix)\n",
    "    Thresh = skimage.filters.threshold_otsu(ROI)\n",
    "    return Thresh"
   ]
  },
  {
   "cell_type": "code",
   "execution_count": 14,
   "id": "6ad4d2cc-8e38-465b-bcf4-f215f462e2b9",
   "metadata": {},
   "outputs": [],
   "source": [
    "# define a function that fills a cell from a seed given a threshold\n",
    "# unfortunately to date floodfill is not yet implemented on cupy or cucim\n",
    "# use CPU\n",
    "import skimage.segmentation as CPU_segment"
   ]
  },
  {
   "cell_type": "code",
   "execution_count": 43,
   "id": "32171c96-61af-451f-b6f2-bfe61e8c16a8",
   "metadata": {},
   "outputs": [],
   "source": [
    "def detect_cell_thresh(image, seedcoord, thresh):\n",
    "    # create a binary image\n",
    "    bin_img = image > thresh\n",
    "    # floodfill the detected cell\n",
    "    floodseed = tuple((seedcoord[0],seedcoord[1],seedcoord[2]))\n",
    "    \n",
    "    bin_img_cpu = bin_img.get()\n",
    "    \n",
    "    cellimg = CPU_segment.flood(bin_img_cpu,floodseed)\n",
    "    \n",
    "    return cp.array(cellimg).astype(bool)"
   ]
  },
  {
   "cell_type": "code",
   "execution_count": 44,
   "id": "157813af-f8fc-427a-86df-b1c2115731d3",
   "metadata": {},
   "outputs": [
    {
     "data": {
      "text/plain": [
       "array([[[False, False, False, ..., False, False, False],\n",
       "        [False, False, False, ..., False, False, False],\n",
       "        [False, False, False, ..., False, False, False],\n",
       "        ...,\n",
       "        [False, False, False, ..., False, False, False],\n",
       "        [False, False, False, ..., False, False, False],\n",
       "        [False, False, False, ..., False, False, False]],\n",
       "\n",
       "       [[False, False, False, ..., False, False, False],\n",
       "        [False, False, False, ..., False, False, False],\n",
       "        [False, False, False, ..., False, False, False],\n",
       "        ...,\n",
       "        [False, False, False, ..., False, False, False],\n",
       "        [False, False, False, ..., False, False, False],\n",
       "        [False, False, False, ..., False, False, False]],\n",
       "\n",
       "       [[False, False, False, ..., False, False, False],\n",
       "        [False, False, False, ..., False, False, False],\n",
       "        [False, False, False, ..., False, False, False],\n",
       "        ...,\n",
       "        [False, False, False, ..., False, False, False],\n",
       "        [False, False, False, ..., False, False, False],\n",
       "        [False, False, False, ..., False, False, False]],\n",
       "\n",
       "       ...,\n",
       "\n",
       "       [[False, False, False, ..., False, False, False],\n",
       "        [False, False, False, ..., False, False, False],\n",
       "        [False, False, False, ..., False, False, False],\n",
       "        ...,\n",
       "        [False, False, False, ..., False, False, False],\n",
       "        [False, False, False, ..., False, False, False],\n",
       "        [False, False, False, ..., False, False, False]],\n",
       "\n",
       "       [[False, False, False, ..., False, False, False],\n",
       "        [False, False, False, ..., False, False, False],\n",
       "        [False, False, False, ..., False, False, False],\n",
       "        ...,\n",
       "        [False, False, False, ..., False, False, False],\n",
       "        [False, False, False, ..., False, False, False],\n",
       "        [False, False, False, ..., False, False, False]],\n",
       "\n",
       "       [[False, False, False, ..., False, False, False],\n",
       "        [False, False, False, ..., False, False, False],\n",
       "        [False, False, False, ..., False, False, False],\n",
       "        ...,\n",
       "        [False, False, False, ..., False, False, False],\n",
       "        [False, False, False, ..., False, False, False],\n",
       "        [False, False, False, ..., False, False, False]]])"
      ]
     },
     "execution_count": 44,
     "metadata": {},
     "output_type": "execute_result"
    }
   ],
   "source": [
    "# test the function\n",
    "detect_cell_thresh(gpu_img, locmax.get()[100], 900)"
   ]
  },
  {
   "cell_type": "code",
   "execution_count": 45,
   "id": "00040f9f-91c2-428d-8533-3e0eec639a00",
   "metadata": {},
   "outputs": [
    {
     "name": "stdout",
     "output_type": "stream",
     "text": [
      "tolerance 1 SD is from 17940 to 88462 voxels\n",
      "tolerance 0.5 SD is from 35570.5 to 70831.5 voxels\n",
      "tolerance 2 SD is from -17321 to 123723 voxels\n"
     ]
    }
   ],
   "source": [
    "# define a function that adjusts the contrast until a target pixel number (volume) is reached\n",
    "# in sams data (by hand) cell volume varies from ~300-3500 (more than 90% coverage)\n",
    "# 1207um**3 +/- SD 803um**3 \n",
    "# 1pixel has the volume\n",
    "\n",
    "meanvol = int(1207/pixvol)\n",
    "sdvol = int((800/pixvol))\n",
    "print(\"tolerance 1 SD is from\", meanvol-sdvol, \"to\", meanvol + sdvol, \"voxels\")\n",
    "print(\"tolerance 0.5 SD is from\", meanvol-0.5*sdvol, \"to\", meanvol + 0.5*sdvol, \"voxels\")\n",
    "print(\"tolerance 2 SD is from\", meanvol-2*sdvol, \"to\", meanvol + 2*sdvol, \"voxels\")"
   ]
  },
  {
   "cell_type": "code",
   "execution_count": 46,
   "id": "9280942e-f28d-419e-a33c-74b2342ba3b4",
   "metadata": {},
   "outputs": [],
   "source": [
    "# iterative cell detection\n",
    "def detect_cell_iter(image, seedcoord, expandpix, vlow, vhigh):\n",
    "    \n",
    "    # setup a threshold for the iterating, start with a little less than Otsu\n",
    "    # this way it reduces the volume from a too large fit\n",
    "    thresh_iter = find_cell_thresh(image, seedcoord, expandpix)*0.6\n",
    "    void_mask = cp.zeros_like(image)\n",
    "    \n",
    "    # get the candidate cell mask\n",
    "    CCM = detect_cell_thresh(image, seedcoord, thresh_iter)\n",
    "    # count the number of pixels in the mask (volume)\n",
    "    vol = cp.count_nonzero(CCM)\n",
    "    \n",
    "    n_tries = 1\n",
    "    # if the volume is within the tolerance, return the mask\n",
    "    if (vol < vhigh and vol >vlow):\n",
    "        print(\"done in one go\")\n",
    "        return CCM\n",
    "    \n",
    "    # while the number of pixels is outside the tolerance\n",
    "    while not(vol < vhigh and vol >vlow):\n",
    "        # if the volume is larger than target interval set threshold to previous*1.x\n",
    "        if vol > vhigh:\n",
    "            #print(\"too large\")\n",
    "            thresh_iter = thresh_iter*1.2\n",
    "            n_tries = n_tries + 1\n",
    "            CCM = detect_cell_thresh(image, seedcoord, thresh_iter)\n",
    "            #update volume\n",
    "            vol = cp.count_nonzero(CCM)\n",
    "            \n",
    "        # if the volume is below target interval set threshold to previous*0.x\n",
    "        if vol < vlow:\n",
    "            #print(\"too small\")\n",
    "            thresh_iter = thresh_iter*0.8\n",
    "            n_tries = n_tries + 1\n",
    "            CCM = detect_cell_thresh(image, seedcoord, thresh_iter)\n",
    "            #update volume\n",
    "            vol = cp.count_nonzero(CCM)\n",
    "            \n",
    "        # if the number of iterations is high and the cellmask is tiny than an absolute minimum, break and return empty mask\n",
    "        if (vol < vlow and n_tries > 10):\n",
    "            print(\"Bad seed: Just a specle\")\n",
    "            return void_mask\n",
    "        \n",
    "        # if the number of iterations is high and the cell mask is massive, the seed is on the bg, break and return empty mask\n",
    "        if (vol > vhigh*3 and n_tries > 10):\n",
    "            print(\"Bad seed: bg pixel\")\n",
    "            return void_mask\n",
    "        \n",
    "        # if a reasonable volume is found return it\n",
    "        if (vol < vhigh and vol >vlow):\n",
    "            print(\"Found mask in\", n_tries, \"iterations\")\n",
    "            return CCM   "
   ]
  },
  {
   "cell_type": "code",
   "execution_count": 53,
   "id": "a944a8a5-2992-4d9c-b9c8-94517bbc0bc0",
   "metadata": {},
   "outputs": [
    {
     "name": "stdout",
     "output_type": "stream",
     "text": [
      "400\n",
      "10092250112\n",
      "10371459072\n",
      "3\n"
     ]
    }
   ],
   "source": [
    "# monitor memory of the GPU\n",
    "mempool = cp.get_default_memory_pool()\n",
    "pinned_mempool = cp.get_default_pinned_memory_pool()\n",
    "\n",
    "# Create an array on CPU.\n",
    "# NumPy allocates 400 bytes in CPU (not managed by CuPy memory pool).\n",
    "a_cpu = np.ndarray(100, dtype=np.float32)\n",
    "print(a_cpu.nbytes)                      # 400\n",
    "\n",
    "# You can access statistics of these memory pools.\n",
    "print(mempool.used_bytes())              # 0\n",
    "print(mempool.total_bytes())             # 0\n",
    "print(pinned_mempool.n_free_blocks())    # 0"
   ]
  },
  {
   "cell_type": "code",
   "execution_count": 49,
   "id": "91f20c08-122d-4dea-969d-503625c96b4e",
   "metadata": {},
   "outputs": [
    {
     "name": "stdout",
     "output_type": "stream",
     "text": [
      "done in one go\n",
      "done in one go\n"
     ]
    },
    {
     "ename": "OutOfMemoryError",
     "evalue": "Out of memory allocating 2,440,343,040 bytes (allocated so far: 11,896,673,792 bytes).",
     "output_type": "error",
     "traceback": [
      "\u001b[0;31m---------------------------------------------------------------------------\u001b[0m",
      "\u001b[0;31mOutOfMemoryError\u001b[0m                          Traceback (most recent call last)",
      "Input \u001b[0;32mIn [49]\u001b[0m, in \u001b[0;36m<cell line: 3>\u001b[0;34m()\u001b[0m\n\u001b[1;32m     10\u001b[0m cellmask \u001b[38;5;241m=\u001b[39m cellmask\u001b[38;5;241m*\u001b[39m(i_cell\u001b[38;5;241m+\u001b[39m\u001b[38;5;241m1\u001b[39m)\n\u001b[1;32m     12\u001b[0m \u001b[38;5;66;03m# update the complete mask\u001b[39;00m\n\u001b[0;32m---> 13\u001b[0m allcells_mask \u001b[38;5;241m=\u001b[39m  \u001b[43mallcells_mask\u001b[49m\u001b[43m \u001b[49m\u001b[38;5;241;43m+\u001b[39;49m\u001b[43m \u001b[49m\u001b[43mcellmask\u001b[49m\n",
      "File \u001b[0;32mcupy/_core/core.pyx:1187\u001b[0m, in \u001b[0;36mcupy._core.core.ndarray.__add__\u001b[0;34m()\u001b[0m\n",
      "File \u001b[0;32mcupy/_core/_kernel.pyx:1267\u001b[0m, in \u001b[0;36mcupy._core._kernel.ufunc.__call__\u001b[0;34m()\u001b[0m\n",
      "File \u001b[0;32mcupy/_core/_kernel.pyx:636\u001b[0m, in \u001b[0;36mcupy._core._kernel._get_out_args_from_optionals\u001b[0;34m()\u001b[0m\n",
      "File \u001b[0;32mcupy/_core/core.pyx:2666\u001b[0m, in \u001b[0;36mcupy._core.core._ndarray_init\u001b[0;34m()\u001b[0m\n",
      "File \u001b[0;32mcupy/_core/core.pyx:188\u001b[0m, in \u001b[0;36mcupy._core.core.ndarray._init_fast\u001b[0;34m()\u001b[0m\n",
      "File \u001b[0;32mcupy/cuda/memory.pyx:698\u001b[0m, in \u001b[0;36mcupy.cuda.memory.alloc\u001b[0;34m()\u001b[0m\n",
      "File \u001b[0;32mcupy/cuda/memory.pyx:1375\u001b[0m, in \u001b[0;36mcupy.cuda.memory.MemoryPool.malloc\u001b[0;34m()\u001b[0m\n",
      "File \u001b[0;32mcupy/cuda/memory.pyx:1396\u001b[0m, in \u001b[0;36mcupy.cuda.memory.MemoryPool.malloc\u001b[0;34m()\u001b[0m\n",
      "File \u001b[0;32mcupy/cuda/memory.pyx:1076\u001b[0m, in \u001b[0;36mcupy.cuda.memory.SingleDeviceMemoryPool.malloc\u001b[0;34m()\u001b[0m\n",
      "File \u001b[0;32mcupy/cuda/memory.pyx:1097\u001b[0m, in \u001b[0;36mcupy.cuda.memory.SingleDeviceMemoryPool._malloc\u001b[0;34m()\u001b[0m\n",
      "File \u001b[0;32mcupy/cuda/memory.pyx:1335\u001b[0m, in \u001b[0;36mcupy.cuda.memory.SingleDeviceMemoryPool._try_malloc\u001b[0;34m()\u001b[0m\n",
      "\u001b[0;31mOutOfMemoryError\u001b[0m: Out of memory allocating 2,440,343,040 bytes (allocated so far: 11,896,673,792 bytes)."
     ]
    }
   ],
   "source": [
    "allcells_mask = cp.zeros_like(img)\n",
    "\n",
    "for i_cell in range(locmax.shape[0]):\n",
    "    cellmask = detect_cell_iter(gpu_img,                    \n",
    "                     locmax.get()[i_cell],\n",
    "                     50//xystep,\n",
    "                     17940,\n",
    "                     123723)\n",
    "    # label the cells\n",
    "    cellmask = cellmask*(i_cell+1)\n",
    "    \n",
    "    # update the complete mask\n",
    "    allcells_mask =  allcells_mask + cellmask"
   ]
  },
  {
   "cell_type": "code",
   "execution_count": null,
   "id": "97dc614d-655f-4f75-a1bf-03724193f45e",
   "metadata": {},
   "outputs": [],
   "source": []
  },
  {
   "cell_type": "code",
   "execution_count": null,
   "id": "6c700396-dfe0-4c6f-8e76-aea586680426",
   "metadata": {},
   "outputs": [],
   "source": []
  },
  {
   "cell_type": "code",
   "execution_count": null,
   "id": "4eebd416-fe8f-421f-8a0a-45a177d7d7ff",
   "metadata": {},
   "outputs": [],
   "source": []
  }
 ],
 "metadata": {
  "kernelspec": {
   "display_name": "Python 3 (ipykernel)",
   "language": "python",
   "name": "python3"
  },
  "language_info": {
   "codemirror_mode": {
    "name": "ipython",
    "version": 3
   },
   "file_extension": ".py",
   "mimetype": "text/x-python",
   "name": "python",
   "nbconvert_exporter": "python",
   "pygments_lexer": "ipython3",
   "version": "3.9.12"
  }
 },
 "nbformat": 4,
 "nbformat_minor": 5
}
