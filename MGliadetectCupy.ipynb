{
 "cells": [
  {
   "cell_type": "code",
   "execution_count": 1,
   "id": "bb353085-1a16-4cf7-b074-2a89e98d0c18",
   "metadata": {
    "tags": []
   },
   "outputs": [],
   "source": [
    "# Load libraries for file handling and image crunching\n",
    "import numpy as np\n",
    "import matplotlib.pyplot as plt\n",
    "import cupy as cp\n",
    "\n",
    "import scipy.ndimage as ndicpu\n",
    "import cupyx.scipy.ndimage as ndi\n",
    "\n",
    "import seaborn as sns\n",
    "import pandas as pd\n",
    "# Set matplotlib backend\n",
    "%matplotlib inline \n",
    "\n",
    "import cucim.skimage as skimage\n",
    "import skimage as skimagecpu\n",
    "# Import the os module\n",
    "import os\n",
    "\n",
    "#fancy gui viewer\n",
    "import napari\n",
    "\n",
    "# progress bar for long computation\n",
    "from tqdm import tqdm\n",
    "\n",
    "# import own helper functions to subset and make boxes from coordinates\n",
    "from boxhelpers_cp import *"
   ]
  },
  {
   "cell_type": "code",
   "execution_count": 2,
   "id": "36076747-da8a-4262-996c-0282aa2d85a3",
   "metadata": {
    "tags": []
   },
   "outputs": [],
   "source": [
    "wdpath = os.getcwd()\n",
    "\n",
    "from MGlia_detect_utils import *\n",
    "\n",
    "# grab a testimage\n",
    "testimage = \"C2-220421 otof_iba slide002 mouse195 005.tif\"\n",
    "\n",
    "testimagebrain = \"320763 CNIC.tif\"\n",
    "dirpath = \"./\"\n",
    "\n",
    "filepath = os.path.join(wdpath, testimage)\n",
    "\n",
    "# load the image\n",
    "from skimage.io import imread\n",
    "img = imread(filepath)"
   ]
  },
  {
   "cell_type": "code",
   "execution_count": 3,
   "id": "c2fc6389-c8d1-404d-b085-95093e838a57",
   "metadata": {
    "tags": []
   },
   "outputs": [],
   "source": [
    "# Setup the dimension of the image\n",
    "planestep = 0.3\n",
    "xystep = 0.27500004812500844\n",
    "pixvol =planestep*xystep**2\n"
   ]
  },
  {
   "cell_type": "code",
   "execution_count": 4,
   "id": "df2a63fd-6a2d-4559-bcf1-ec75e7c43942",
   "metadata": {},
   "outputs": [],
   "source": [
    "#convert img to cp array on GPU\n",
    "#gpu_img = cp.asarray(img)\n",
    "\n",
    "# monitor memory of the GPU\n",
    "mempool = cp.get_default_memory_pool()\n",
    "\n",
    "def getGPUmem():\n",
    "    #calculate the proportion of memory used an return\n",
    "    used = mempool.used_bytes()/mempool.total_bytes()\n",
    "    return used\n"
   ]
  },
  {
   "cell_type": "code",
   "execution_count": 5,
   "id": "bb669cd4-a51b-41da-a34f-4c01f49db38b",
   "metadata": {},
   "outputs": [],
   "source": [
    "# run a gaussian filter on GPU\n",
    "filtered = ndi.filters.gaussian_filter(cp.asarray(img), 5).get()\n",
    "\n",
    "viewer = napari.view_image(filtered)\n"
   ]
  },
  {
   "cell_type": "code",
   "execution_count": 6,
   "id": "d7d1e0eb-f7d3-4be9-9742-b46c0749d554",
   "metadata": {},
   "outputs": [],
   "source": [
    "# define a cube of x microns as a footprint\n",
    "# use the scale and floor division to find the number of pixels in each dimension to use\n",
    "x = 30\n",
    "foot = cp.ones((int(x//planestep), # use a smaller z step to not reject more candidate seeds (purely empirical)\n",
    "               int(x//xystep),\n",
    "               int(x//xystep)))\n",
    "\n",
    "\n",
    "# use a sphere with radius of 30 uM\n",
    "#foot = skimage.morphology.ball(int(x//xystep))\n"
   ]
  },
  {
   "cell_type": "code",
   "execution_count": 7,
   "id": "5cdbe27e-60f3-45d8-89cf-3d772c97bf06",
   "metadata": {},
   "outputs": [],
   "source": [
    "# with skimage maximum filter (returns coordinates, not pixels)\n",
    "locmax = skimage.feature.peak_local_max(cp.array(filtered), min_distance=0, footprint = foot).get()\n",
    "\n",
    "#create an empty boolean array of the dimensions of the source img\n",
    "localhigh = np.zeros_like(filtered, dtype=bool)\n",
    "\n",
    "#preserve memory!\n",
    "del filtered\n",
    "\n",
    "# this will feed the coord to the empty mask\n",
    "localhigh[tuple(locmax.T)] = True"
   ]
  },
  {
   "cell_type": "code",
   "execution_count": 8,
   "id": "a19bf766-9b00-4510-a34a-0c34c500d796",
   "metadata": {},
   "outputs": [
    {
     "name": "stdout",
     "output_type": "stream",
     "text": [
      "found 178 seeds and 241  pixels\n"
     ]
    }
   ],
   "source": [
    "# label the local highs and inspect the seeds generated\n",
    "localhigh_img = ndi.label(cp.array(localhigh))[0].get()\n",
    "\n",
    "print(\"found\", np.unique(localhigh_img).shape[0], \"seeds and\", locmax.shape[0], \" pixels\")\n",
    "\n",
    "localhigh_img_plot = ndi.binary_dilation(cp.array(localhigh_img), structure = cp.ones((3,10,10))).get()"
   ]
  },
  {
   "cell_type": "code",
   "execution_count": 9,
   "id": "5380eed0-0bba-40b0-8357-d6647374cd68",
   "metadata": {},
   "outputs": [],
   "source": [
    "# Collapse the multiple pixels to one seed only\n",
    "# Extract the centroid from each seed\n",
    "\n",
    "seedprops = skimage.measure.regionprops(cp.asarray(localhigh_img), cp.asarray(img))\n",
    "\n",
    "# loop through he object and get the seeds into an array\n",
    "seedlist = []\n",
    "for i in range(len(seedprops)):\n",
    "    # make into np array of coordinates\n",
    "    seed = np.array(seedprops[i].centroid).astype(int)\n",
    "    seedlist.append(seed)\n",
    "    "
   ]
  },
  {
   "cell_type": "code",
   "execution_count": 10,
   "id": "f9b5fb21-ed71-47fa-a18c-45478b174640",
   "metadata": {},
   "outputs": [],
   "source": [
    "seedarray = np.stack(seedlist)\n",
    "\n",
    "#preserve memory!\n",
    "del seedprops \n",
    "del localhigh \n",
    "del localhigh_img \n",
    "del localhigh_img_plot"
   ]
  },
  {
   "cell_type": "code",
   "execution_count": 11,
   "id": "f164cb6c-9b39-4d97-988a-a38eeb7f101a",
   "metadata": {},
   "outputs": [],
   "source": [
    "# make an empty mask\n",
    "seed_img = np.zeros_like(img, dtype=bool)\n",
    "\n",
    "# This will feed the coord to the empty mask\n",
    "seed_img[tuple(seedarray.T)] = True\n",
    "seed_img_plot = ndi.binary_dilation(cp.array(seed_img), structure = cp.ones((3,10,10))).get()"
   ]
  },
  {
   "cell_type": "code",
   "execution_count": 12,
   "id": "09883b18-ab0c-4c12-a6e0-914b4687e370",
   "metadata": {},
   "outputs": [],
   "source": [
    "viewer = napari.view_image(img)\n",
    "new_layer = viewer.add_image(seed_img, opacity = 0.2, colormap = \"red\")\n",
    "new_layer = viewer.add_image(seed_img_plot, opacity = 0.2, colormap = \"red\")"
   ]
  },
  {
   "cell_type": "code",
   "execution_count": 13,
   "id": "b4afe808-caa9-4724-8dba-186a59655324",
   "metadata": {},
   "outputs": [],
   "source": [
    "#preserve memory!\n",
    "del seed_img \n",
    "del seed_img_plot"
   ]
  },
  {
   "cell_type": "code",
   "execution_count": 14,
   "id": "b3dafa32-7832-4b40-ade4-fdca026ec7a3",
   "metadata": {},
   "outputs": [],
   "source": [
    "# make a helper function to span a box around a 3d pixel coordinate\n",
    "def seed_to_box(image, coords, npixels):\n",
    "    # subset the box and set pixels to ones\n",
    "    \n",
    "    # the desired box gets spanned in 2 directions, we need to half this\n",
    "    npixels = npixels//2\n",
    "    # image boundaries\n",
    "    boundaries = image.shape\n",
    "    \n",
    "    #print(boundaries)\n",
    "    zstart = coords[0] - npixels\n",
    "    zstop  = coords[0] + npixels\n",
    "    \n",
    "    xstart = coords[1] - npixels\n",
    "    xstop  = coords[1] + npixels\n",
    "    \n",
    "    ystart = coords[2] -npixels\n",
    "    ystop  = coords[2] + npixels\n",
    "    # set fallback if image borders are touched\n",
    "    if zstart < 0:\n",
    "        zstart = 0\n",
    "        \n",
    "    if xstart < 0:\n",
    "        xstart = 0\n",
    "    \n",
    "    if ystart < 0:\n",
    "        ystart = 0\n",
    "    \n",
    "    # set fallback for end being larger than image boundaries\n",
    "    if zstop > boundaries[0]:\n",
    "        zstop = boundaries[0]\n",
    "    \n",
    "    if xstop > boundaries[1]:\n",
    "        xstop = boundaries[1]\n",
    "    \n",
    "    if ystop > boundaries[2]:\n",
    "        ystop = boundaries[2]\n",
    "        \n",
    "    box = cp.zeros_like(image)\n",
    "    # switch on pixels in the box\n",
    "    box[zstart:zstop,xstart:xstop, ystart:ystop] = True \n",
    "    # push to mem and return\n",
    "    return np.array(box.get()).astype(bool)"
   ]
  },
  {
   "cell_type": "code",
   "execution_count": 15,
   "id": "5c7adfaf-a3de-450d-89ab-35b4b86ef154",
   "metadata": {},
   "outputs": [],
   "source": [
    "def seed_to_subset(image, coords, npixels):\n",
    "        \n",
    "    # the desired box gets spanned in 2 directions, we need to half this\n",
    "    npixels = npixels//2\n",
    "    # image boundaries\n",
    "    boundaries = image.shape\n",
    "    \n",
    "    #print(boundaries)\n",
    "    zstart = coords[0] - npixels\n",
    "    zstop  = coords[0] + npixels\n",
    "    \n",
    "    xstart = coords[1] - npixels\n",
    "    xstop  = coords[1] + npixels\n",
    "    \n",
    "    ystart = coords[2] -npixels\n",
    "    ystop  = coords[2] + npixels\n",
    "    # set fallback if image borders are touched\n",
    "    if zstart < 0:\n",
    "        zstart = 0\n",
    "        \n",
    "    if xstart < 0:\n",
    "        xstart = 0\n",
    "    \n",
    "    if ystart < 0:\n",
    "        ystart = 0\n",
    "    \n",
    "    # set fallback for end being larger than image boundaries\n",
    "    if zstop > boundaries[0]:\n",
    "        zstop = boundaries[0]\n",
    "    \n",
    "    if xstop > boundaries[1]:\n",
    "        xstop = boundaries[1]\n",
    "    \n",
    "    if ystop > boundaries[2]:\n",
    "        ystop = boundaries[2]\n",
    "        \n",
    "    # subset the image + return\n",
    "    imgbox = image[zstart:zstop,xstart:xstop, ystart:ystop]\n",
    "    return imgbox"
   ]
  },
  {
   "cell_type": "code",
   "execution_count": 16,
   "id": "0a150726-e9bc-479d-a3b7-1a9822f6ca7d",
   "metadata": {},
   "outputs": [],
   "source": [
    "#subset = seed_to_subset(img, locmax[100], int(50//xystep))\n",
    "#viewer = napari.view_image(subset)\n",
    "#preserve memory!\n",
    "#del subset"
   ]
  },
  {
   "cell_type": "code",
   "execution_count": 17,
   "id": "5f336311-d787-4a62-929a-5e97f9d9f13f",
   "metadata": {},
   "outputs": [],
   "source": [
    "# test the functions\n",
    "viewer = napari.view_image(img)\n",
    "\n",
    "seed20 = seed_to_box(img, seedarray[100] , 2//xystep)\n",
    "seed20box = seed_to_box(img, seedarray[100] , 100//xystep)\n",
    "\n",
    "new_layer = viewer.add_image(seed20, opacity = 0.2, colormap = \"red\")\n",
    "new_layer = viewer.add_image(seed20box, opacity = 0.2, colormap = \"cyan\")\n",
    "\n",
    "#preserve memory!\n",
    "#del seed20 seed20box"
   ]
  },
  {
   "cell_type": "code",
   "execution_count": 18,
   "id": "ca41741a-aecd-48af-8071-555e35c615bd",
   "metadata": {},
   "outputs": [],
   "source": [
    "# define a function that makes a local threshold\n",
    "def find_cell_thresh(image, seed, expandpix):\n",
    "    # subset the ROI and calulate thresh based on ROI\n",
    "    ROI = seed_to_subset(image, seed, expandpix)\n",
    "    Thresh = skimagecpu.filters.threshold_otsu(ROI) \n",
    "    return Thresh"
   ]
  },
  {
   "cell_type": "code",
   "execution_count": 19,
   "id": "32171c96-61af-451f-b6f2-bfe61e8c16a8",
   "metadata": {},
   "outputs": [],
   "source": [
    "def detect_cell_thresh(image, seedcoord, thresh):\n",
    "    # push to GPU + create a binary image\n",
    "    image = cp.asarray(image)\n",
    "    bin_img = image > thresh\n",
    "    # floodfill the detected cell\n",
    "    floodseed = tuple((seedcoord[0],seedcoord[1],seedcoord[2]))\n",
    "    \n",
    "    bin_img_cpu = bin_img.get()\n",
    "    \n",
    "    cellimg = skimagecpu.segmentation.flood(bin_img_cpu,floodseed)\n",
    "    \n",
    "    return np.array(cellimg).astype(bool)"
   ]
  },
  {
   "cell_type": "code",
   "execution_count": 20,
   "id": "157813af-f8fc-427a-86df-b1c2115731d3",
   "metadata": {},
   "outputs": [
    {
     "data": {
      "text/plain": [
       "array([[[False, False, False, ..., False, False, False],\n",
       "        [False, False, False, ..., False, False, False],\n",
       "        [False, False, False, ..., False, False, False],\n",
       "        ...,\n",
       "        [False, False, False, ..., False, False, False],\n",
       "        [False, False, False, ..., False, False, False],\n",
       "        [False, False, False, ..., False, False, False]],\n",
       "\n",
       "       [[False, False, False, ..., False, False, False],\n",
       "        [False, False, False, ..., False, False, False],\n",
       "        [False, False, False, ..., False, False, False],\n",
       "        ...,\n",
       "        [False, False, False, ..., False, False, False],\n",
       "        [False, False, False, ..., False, False, False],\n",
       "        [False, False, False, ..., False, False, False]],\n",
       "\n",
       "       [[False, False, False, ..., False, False, False],\n",
       "        [False, False, False, ..., False, False, False],\n",
       "        [False, False, False, ..., False, False, False],\n",
       "        ...,\n",
       "        [False, False, False, ..., False, False, False],\n",
       "        [False, False, False, ..., False, False, False],\n",
       "        [False, False, False, ..., False, False, False]],\n",
       "\n",
       "       ...,\n",
       "\n",
       "       [[False, False, False, ..., False, False, False],\n",
       "        [False, False, False, ..., False, False, False],\n",
       "        [False, False, False, ..., False, False, False],\n",
       "        ...,\n",
       "        [False, False, False, ..., False, False, False],\n",
       "        [False, False, False, ..., False, False, False],\n",
       "        [False, False, False, ..., False, False, False]],\n",
       "\n",
       "       [[False, False, False, ..., False, False, False],\n",
       "        [False, False, False, ..., False, False, False],\n",
       "        [False, False, False, ..., False, False, False],\n",
       "        ...,\n",
       "        [False, False, False, ..., False, False, False],\n",
       "        [False, False, False, ..., False, False, False],\n",
       "        [False, False, False, ..., False, False, False]],\n",
       "\n",
       "       [[False, False, False, ..., False, False, False],\n",
       "        [False, False, False, ..., False, False, False],\n",
       "        [False, False, False, ..., False, False, False],\n",
       "        ...,\n",
       "        [False, False, False, ..., False, False, False],\n",
       "        [False, False, False, ..., False, False, False],\n",
       "        [False, False, False, ..., False, False, False]]])"
      ]
     },
     "execution_count": 20,
     "metadata": {},
     "output_type": "execute_result"
    }
   ],
   "source": [
    "# test the function\n",
    "detect_cell_thresh(img, locmax[100], 900)"
   ]
  },
  {
   "cell_type": "code",
   "execution_count": 21,
   "id": "00040f9f-91c2-428d-8533-3e0eec639a00",
   "metadata": {},
   "outputs": [
    {
     "name": "stdout",
     "output_type": "stream",
     "text": [
      "tolerance 1 SD is from 17940 to 88462 voxels\n",
      "tolerance 0.5 SD is from 35570.5 to 70831.5 voxels\n",
      "tolerance 2 SD is from -17321 to 123723 voxels\n"
     ]
    }
   ],
   "source": [
    "# define a function that adjusts the contrast until a target pixel number (volume) is reached\n",
    "# in sams data (by hand) cell volume varies from ~300-3500 (more than 90% coverage)\n",
    "# 1207um**3 +/- SD 803um**3 \n",
    "# 1pixel has the volume\n",
    "\n",
    "meanvol = int(1207/pixvol)\n",
    "sdvol = int((800/pixvol))\n",
    "print(\"tolerance 1 SD is from\", meanvol-sdvol, \"to\", meanvol + sdvol, \"voxels\")\n",
    "print(\"tolerance 0.5 SD is from\", meanvol-0.5*sdvol, \"to\", meanvol + 0.5*sdvol, \"voxels\")\n",
    "print(\"tolerance 2 SD is from\", meanvol-2*sdvol, \"to\", meanvol + 2*sdvol, \"voxels\")"
   ]
  },
  {
   "cell_type": "code",
   "execution_count": 22,
   "id": "9280942e-f28d-419e-a33c-74b2342ba3b4",
   "metadata": {},
   "outputs": [],
   "source": [
    "# iterative cell detection\n",
    "def detect_cell_iter(image, seedcoord, expandpix, vlow, vhigh):\n",
    "    \n",
    "    # setup a threshold for the iterating, start with a little less than Otsu\n",
    "    # this way it reduces the volume from a too large fit\n",
    "    thresh_iter = find_cell_thresh(image, seedcoord, expandpix)*0.6\n",
    "    void_mask = cp.zeros_like(image)\n",
    "    \n",
    "    # get the candidate cell mask\n",
    "    CCM = detect_cell_thresh(image, seedcoord, thresh_iter)\n",
    "    # count the number of pixels in the mask (volume)\n",
    "    vol = cp.count_nonzero(cp.asarray(CCM))\n",
    "    \n",
    "    n_tries = 1\n",
    "    # if the volume is within the tolerance, return the mask\n",
    "    if (vol < vhigh and vol >vlow):\n",
    "        #print(\"...done in one go\")\n",
    "        return CCM\n",
    "    \n",
    "    # while the number of pixels is outside the tolerance\n",
    "    while not(vol < vhigh and vol >vlow):\n",
    "        # if the volume is larger than target interval set threshold to previous*1.x\n",
    "        if vol > vhigh:\n",
    "            #print(\"too large\")\n",
    "            thresh_iter = thresh_iter*1.2\n",
    "            n_tries = n_tries + 1\n",
    "            CCM = detect_cell_thresh(image, seedcoord, thresh_iter)\n",
    "            #update volume\n",
    "            vol = cp.count_nonzero(cp.asarray(CCM))\n",
    "            \n",
    "        # if the volume is below target interval set threshold to previous*0.x\n",
    "        if vol < vlow:\n",
    "            #print(\"too small\")\n",
    "            thresh_iter = thresh_iter*0.8\n",
    "            n_tries = n_tries + 1\n",
    "            CCM = detect_cell_thresh(image, seedcoord, thresh_iter)\n",
    "            #update volume\n",
    "            vol = cp.count_nonzero(cp.asarray(CCM))\n",
    "            \n",
    "        # if the number of iterations is high and the cellmask is tiny than an absolute minimum, break and return empty mask\n",
    "        if (vol < vlow and n_tries > 6):\n",
    "            #print(\"Bad seed: Just a specle\")\n",
    "            return void_mask.get()\n",
    "        \n",
    "        # if the number of iterations is high and the cell mask is massive, the seed is on the bg, break and return empty mask\n",
    "        if (vol > vhigh*3 and n_tries > 4):\n",
    "            #print(\"Bad seed: bg pixel, memory used: \", getGPUmem())\n",
    "            return void_mask.get()\n",
    "        \n",
    "        # if a reasonable volume is found return it\n",
    "        if (vol < vhigh and vol >vlow):\n",
    "            #print(\"...Found mask in\", n_tries, \"iterations\")\n",
    "            return CCM\n",
    "        \n",
    "        # if no solution is found (bouncing right between to high and too low)\n",
    "        if (n_tries > 6):\n",
    "            #print(\"...Bad seed: Cant find a solution\")\n",
    "            return void_mask.get()        "
   ]
  },
  {
   "cell_type": "code",
   "execution_count": 23,
   "id": "22169413-e3b5-42ad-bcbd-3771859323fa",
   "metadata": {},
   "outputs": [
    {
     "name": "stderr",
     "output_type": "stream",
     "text": [
      "100%|███████████████████████████████████████████████████████████████████| 177/177 [23:40<00:00,  8.02s/it]\n"
     ]
    }
   ],
   "source": [
    "allcells_mask = np.zeros_like(img)\n",
    "\n",
    "for i_cell in tqdm(range(seedarray.shape[0])):\n",
    "    #print(\"Processing seed \", i_cell, \"of\", locmax.shape[0])\n",
    "    cellmask = detect_cell_iter(img,                    \n",
    "                     locmax[i_cell],\n",
    "                     int(50//xystep),\n",
    "                     17940,\n",
    "                     123723)   \n",
    "        \n",
    "    # update the complete mask\n",
    "    allcells_mask =  allcells_mask + np.asarray(cellmask)\n",
    "    allcells_mask = allcells_mask.astype(bool)"
   ]
  },
  {
   "cell_type": "code",
   "execution_count": 24,
   "id": "15132cc6-37e4-4864-aa94-1d811d728554",
   "metadata": {},
   "outputs": [],
   "source": [
    "# re-label\n",
    "allcells_mask = ndi.label(cp.array(allcells_mask))[0].get()\n"
   ]
  },
  {
   "cell_type": "code",
   "execution_count": 25,
   "id": "f05bf804-78d5-497e-a162-7f3220cac2cb",
   "metadata": {},
   "outputs": [],
   "source": [
    "viewer = napari.view_image(img)\n",
    "new_layer = viewer.add_image(allcells_mask, opacity = 0.2, colormap = \"magma\")\n"
   ]
  },
  {
   "cell_type": "code",
   "execution_count": 26,
   "id": "ff2c1622-93fa-4e5d-8088-abc3bc2157de",
   "metadata": {},
   "outputs": [],
   "source": [
    "# some cells/seeds have been missed.\n",
    "# Take the data for a second round.\n",
    "\n",
    "# set all already detected cells to be black (0)\n",
    "filtered = ndi.filters.gaussian_filter(cp.asarray(img), 5).get()\n",
    "\n",
    "filtered = filtered * (~(allcells_mask > 0))\n",
    "\n",
    "viewer = napari.view_image(filtered)\n"
   ]
  },
  {
   "cell_type": "code",
   "execution_count": 31,
   "id": "c42323b4-a308-4bf7-a5a5-5ea9265195e1",
   "metadata": {},
   "outputs": [
    {
     "ename": "SyntaxError",
     "evalue": "invalid syntax (Mgliadetect.py, line 34)",
     "output_type": "error",
     "traceback": [
      "Traceback \u001b[0;36m(most recent call last)\u001b[0m:\n",
      "  File \u001b[1;32m~/anaconda3/envs/img-crunch/lib/python3.9/site-packages/IPython/core/interactiveshell.py:3369\u001b[0m in \u001b[1;35mrun_code\u001b[0m\n    exec(code_obj, self.user_global_ns, self.user_ns)\n",
      "\u001b[0;36m  Input \u001b[0;32mIn [31]\u001b[0;36m in \u001b[0;35m<cell line: 2>\u001b[0;36m\u001b[0m\n\u001b[0;31m    from Mgliadetect import *\u001b[0m\n",
      "\u001b[0;36m  File \u001b[0;32m~/Postdoc/MGlia_detect/Mgliadetect.py:34\u001b[0;36m\u001b[0m\n\u001b[0;31m    <<<<<<< HEAD\u001b[0m\n\u001b[0m    ^\u001b[0m\n\u001b[0;31mSyntaxError\u001b[0m\u001b[0;31m:\u001b[0m invalid syntax\n"
     ]
    }
   ],
   "source": [
    "## detect seeds once more\n",
    "from Mgliadetect import *\n",
    "\n",
    "secroundseeds = get_seeds(filtered, xystep = 30, zstep = 30)\n"
   ]
  },
  {
   "cell_type": "code",
   "execution_count": null,
   "id": "b1f2549b-3b8a-480c-a36b-853a78f0f6e9",
   "metadata": {},
   "outputs": [],
   "source": [
    "# delete any seeds from the new array that were already tried in the first round\n",
    "https://numpy.org/doc/stable/reference/generated/numpy.unique.html\n",
    "https://stackoverflow.com/questions/47562201/finding-only-unique-coordinates-in-list\n",
    "# run the detection\n"
   ]
  },
  {
   "cell_type": "code",
   "execution_count": null,
   "id": "0fd6ea47-2fd2-45cf-8a00-3fe0dc385054",
   "metadata": {},
   "outputs": [],
   "source": []
  }
 ],
 "metadata": {
  "kernelspec": {
   "display_name": "Python 3 (ipykernel)",
   "language": "python",
   "name": "python3"
  },
  "language_info": {
   "codemirror_mode": {
    "name": "ipython",
    "version": 3
   },
   "file_extension": ".py",
   "mimetype": "text/x-python",
   "name": "python",
   "nbconvert_exporter": "python",
   "pygments_lexer": "ipython3",
   "version": "3.9.12"
  }
 },
 "nbformat": 4,
 "nbformat_minor": 5
}
