{
 "cells": [
  {
   "cell_type": "code",
   "execution_count": 1,
   "id": "bb353085-1a16-4cf7-b074-2a89e98d0c18",
   "metadata": {},
   "outputs": [],
   "source": [
    "# Load libraries for file handling and image crunching\n",
    "import numpy as np\n",
    "import matplotlib.pyplot as plt\n",
    "import cupy as cp\n",
    "\n",
    "#import scipy.ndimage as ndicpu\n",
    "import cupyx.scipy.ndimage as ndi\n",
    "\n",
    "import seaborn as sns\n",
    "import pandas as pd\n",
    "# Set matplotlib backend\n",
    "%matplotlib inline \n",
    "\n",
    "import cucim.skimage as skimage\n",
    "# Import the os module\n",
    "import os\n",
    "\n",
    "#fancy gui viewer\n",
    "import napari\n"
   ]
  },
  {
   "cell_type": "code",
   "execution_count": 2,
   "id": "36076747-da8a-4262-996c-0282aa2d85a3",
   "metadata": {},
   "outputs": [],
   "source": [
    "# get imagej API\n",
    "wdpath = os.getcwd()\n",
    "import imagej\n",
    "#ij = imagej.init()\n",
    "ij = imagej.init('/home/linus/Postdoc/Fiji.app/')\n",
    "\n",
    "# import some previously written conveniece functions\n",
    "from MGlia_detect_utils import *\n",
    "\n",
    "# grab a testimage\n",
    "testimage = \"C2-220421 otof_iba slide002 mouse195 005.tif\"\n",
    "\n",
    "testimagebrain = \"320763 CNIC.tif\"\n",
    "dirpath = \"./\"\n",
    "\n",
    "filepath = os.path.join(wdpath, testimage)\n",
    "\n",
    "# load the image\n",
    "from skimage.io import imread\n",
    "img = imread(filepath)"
   ]
  },
  {
   "cell_type": "code",
   "execution_count": 3,
   "id": "148eecda-a122-4c24-807c-50cbc25ab5d4",
   "metadata": {},
   "outputs": [
    {
     "name": "stdout",
     "output_type": "stream",
     "text": [
      "xy scale is  0.27500004812500844 micron per pixel\n",
      "z scale is  0.3 micron per pixel\n",
      "1 voxel is 0.02268750794062709 microns cubed\n"
     ]
    }
   ],
   "source": [
    "# read the image with imagej\n",
    "img = ij.io().open(filepath)\n",
    "\n",
    "# the scale is in the coordinate part of this object\n",
    "img = ij.py.from_java(img)\n",
    "#extract the number as scalar, is in microns\n",
    "planestep = float(img['pln'][1].to_numpy())\n",
    "xystep = float(img['row'][1].to_numpy())\n",
    "\n",
    "pixvol =planestep*xystep**2\n",
    "\n",
    "print(\"xy scale is \", xystep, \"micron per pixel\")\n",
    "print(\"z scale is \", planestep, \"micron per pixel\")\n",
    "print(\"1 voxel is\", pixvol, \"microns cubed\")"
   ]
  },
  {
   "cell_type": "code",
   "execution_count": 7,
   "id": "df2a63fd-6a2d-4559-bcf1-ec75e7c43942",
   "metadata": {},
   "outputs": [],
   "source": [
    "#convert img to cp array on GPU\n",
    "gpu_img = cp.asarray(img)"
   ]
  },
  {
   "cell_type": "code",
   "execution_count": 10,
   "id": "bb669cd4-a51b-41da-a34f-4c01f49db38b",
   "metadata": {},
   "outputs": [],
   "source": [
    "# run a gaussian filter on GPU\n",
    "gpu_filtered = ndi.filters.gaussian_filter(gpu_img, 5)"
   ]
  },
  {
   "cell_type": "code",
   "execution_count": 11,
   "id": "d7d1e0eb-f7d3-4be9-9742-b46c0749d554",
   "metadata": {},
   "outputs": [],
   "source": [
    "# define a cube of x microns as a footprint\n",
    "# use the scale and floor division to find the number of pixels in each dimension to use\n",
    "x = 30\n",
    "foot = np.ones((3, # go plane-by plane, get to many rather than too few seeds\n",
    "               int(x//xystep),\n",
    "               int(x//xystep)))\n"
   ]
  },
  {
   "cell_type": "code",
   "execution_count": 48,
   "id": "235d3078-4ad6-4900-9eaf-7e4024eca2b2",
   "metadata": {},
   "outputs": [],
   "source": [
    "from skimage.feature import peak_local_max\n",
    "locmax = peak_local_max(cpu_filtered, min_distance=0, footprint = foot)"
   ]
  },
  {
   "cell_type": "code",
   "execution_count": 51,
   "id": "f658d7b9-bfc6-4373-900e-b96530deb21d",
   "metadata": {},
   "outputs": [],
   "source": [
    "x = 30\n",
    "foot = cp.ones((3, # go plane-by plane, get to many rather than too few seeds\n",
    "               int(x//xystep),\n",
    "               int(x//xystep)))"
   ]
  },
  {
   "cell_type": "code",
   "execution_count": 12,
   "id": "f6574c6f-2052-4708-aed2-892b37cc3281",
   "metadata": {},
   "outputs": [],
   "source": [
    "gpu_locmax = ndi.maximum_filter(gpu_filtered, footprint = foot)\n",
    "\n",
    "gpu_candmask = gpu_locmax  == gpu_filtered\n",
    "\n",
    "#dilate the seed for plotting\n",
    "gpu_candmask_plot = ndi.binary_dilation(gpu_candmask, structure = cp.ones((3,10,10)))\n",
    "\n"
   ]
  },
  {
   "cell_type": "code",
   "execution_count": 14,
   "id": "041e50e5-8d1b-42e2-bc22-ac77acbb7dac",
   "metadata": {},
   "outputs": [],
   "source": [
    "viewer = napari.view_image(img)\n",
    "#new_layer = viewer.add_image(cp.asnumpy(gpu_locmax), opacity = 0.2, colormap = \"red\")\n",
    "new_layer = viewer.add_image(cp.asnumpy(gpu_candmask_plot), opacity = 0.5, colormap = \"red\")"
   ]
  },
  {
   "cell_type": "code",
   "execution_count": 65,
   "id": "b3422145-d369-4d3d-b0b8-963fe1ba4e79",
   "metadata": {},
   "outputs": [
    {
     "data": {
      "text/plain": [
       "array([[[1., 1., 1., 1., 1.],\n",
       "        [1., 1., 1., 1., 1.],\n",
       "        [1., 1., 1., 1., 1.],\n",
       "        [1., 1., 1., 1., 1.],\n",
       "        [1., 1., 1., 1., 1.]],\n",
       "\n",
       "       [[1., 1., 1., 1., 1.],\n",
       "        [1., 1., 1., 1., 1.],\n",
       "        [1., 1., 1., 1., 1.],\n",
       "        [1., 1., 1., 1., 1.],\n",
       "        [1., 1., 1., 1., 1.]],\n",
       "\n",
       "       [[1., 1., 1., 1., 1.],\n",
       "        [1., 1., 1., 1., 1.],\n",
       "        [1., 1., 1., 1., 1.],\n",
       "        [1., 1., 1., 1., 1.],\n",
       "        [1., 1., 1., 1., 1.]]])"
      ]
     },
     "execution_count": 65,
     "metadata": {},
     "output_type": "execute_result"
    }
   ],
   "source": []
  },
  {
   "cell_type": "code",
   "execution_count": null,
   "id": "e021acba-bed0-4fdb-ab51-28fa29fc7cc0",
   "metadata": {},
   "outputs": [],
   "source": []
  }
 ],
 "metadata": {
  "kernelspec": {
   "display_name": "Python 3 (ipykernel)",
   "language": "python",
   "name": "python3"
  },
  "language_info": {
   "codemirror_mode": {
    "name": "ipython",
    "version": 3
   },
   "file_extension": ".py",
   "mimetype": "text/x-python",
   "name": "python",
   "nbconvert_exporter": "python",
   "pygments_lexer": "ipython3",
   "version": "3.9.12"
  }
 },
 "nbformat": 4,
 "nbformat_minor": 5
}
