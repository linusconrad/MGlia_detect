{
 "cells": [
  {
   "cell_type": "code",
   "execution_count": 1,
   "id": "bb353085-1a16-4cf7-b074-2a89e98d0c18",
   "metadata": {
    "tags": []
   },
   "outputs": [],
   "source": [
    "# Load libraries for file handling and image crunching\n",
    "import numpy as np\n",
    "import matplotlib.pyplot as plt\n",
    "import cupy as cp\n",
    "\n",
    "import scipy.ndimage as ndicpu\n",
    "import cupyx.scipy.ndimage as ndi\n",
    "\n",
    "import seaborn as sns\n",
    "import pandas as pd\n",
    "# Set matplotlib backend\n",
    "%matplotlib inline \n",
    "\n",
    "import cucim.skimage as skimage\n",
    "import skimage as skimagecpu\n",
    "# Import the os module\n",
    "import os\n",
    "\n",
    "#fancy gui viewer\n",
    "import napari\n",
    "\n",
    "# progress bar for long computation\n",
    "from tqdm import tqdm\n",
    "\n",
    "# import own helper functions to subset and make boxes from coordinates\n",
    "from boxhelpers_cp import *"
   ]
  },
  {
   "cell_type": "code",
   "execution_count": 2,
   "id": "36076747-da8a-4262-996c-0282aa2d85a3",
   "metadata": {
    "tags": []
   },
   "outputs": [],
   "source": [
    "wdpath = os.getcwd()\n",
    "\n",
    "from MGlia_detect_utils import *\n",
    "\n",
    "# grab a testimage\n",
    "testimage = \"C2-220421 otof_iba slide002 mouse195 005.tif\"\n",
    "\n",
    "testimagebrain = \"320763 CNIC.tif\"\n",
    "dirpath = \"./\"\n",
    "\n",
    "filepath = os.path.join(wdpath, testimage)\n",
    "\n",
    "# load the image\n",
    "from skimage.io import imread\n",
    "img = imread(filepath)"
   ]
  },
  {
   "cell_type": "code",
   "execution_count": 3,
   "id": "c2fc6389-c8d1-404d-b085-95093e838a57",
   "metadata": {
    "tags": []
   },
   "outputs": [],
   "source": [
    "# Setup the dimension of the image\n",
    "planestep = 0.3\n",
    "xystep = 0.27500004812500844\n",
    "pixvol =planestep*xystep**2\n"
   ]
  },
  {
   "cell_type": "code",
   "execution_count": 4,
   "id": "df2a63fd-6a2d-4559-bcf1-ec75e7c43942",
   "metadata": {},
   "outputs": [],
   "source": [
    "#convert img to cp array on GPU\n",
    "#gpu_img = cp.asarray(img)\n",
    "\n",
    "# monitor memory of the GPU\n",
    "mempool = cp.get_default_memory_pool()\n",
    "\n",
    "def getGPUmem():\n",
    "    #calculate the proportion of memory used an return\n",
    "    used = mempool.used_bytes()/mempool.total_bytes()\n",
    "    return used\n"
   ]
  },
  {
   "cell_type": "code",
   "execution_count": 5,
   "id": "bb669cd4-a51b-41da-a34f-4c01f49db38b",
   "metadata": {},
   "outputs": [],
   "source": [
    "# run a gaussian filter on GPU\n",
    "filtered = ndi.filters.gaussian_filter(cp.asarray(img), 5).get()"
   ]
  },
  {
   "cell_type": "code",
   "execution_count": 6,
   "id": "d7d1e0eb-f7d3-4be9-9742-b46c0749d554",
   "metadata": {},
   "outputs": [],
   "source": [
    "# define a cube of x microns as a footprint\n",
    "# use the scale and floor division to find the number of pixels in each dimension to use\n",
    "x = 30\n",
    "foot = cp.ones((int(x//planestep)//3, # use a smaller z step to not reject more candidate seeds (purely empirical)\n",
    "               int(x//xystep),\n",
    "               int(x//xystep)))\n"
   ]
  },
  {
   "cell_type": "code",
   "execution_count": 7,
   "id": "42d07241-1354-4e40-85f8-cd83b67f665e",
   "metadata": {},
   "outputs": [],
   "source": [
    "locmax = ndi.maximum_filter(cp.array(filtered), footprint = foot).get()\n",
    "\n",
    "candmask = locmax  == filtered\n",
    "\n",
    "#dilate the seed for plotting\n",
    "candmask_plot = ndi.binary_dilation(cp.array(candmask), structure = cp.ones((3,10,10))).get()"
   ]
  },
  {
   "cell_type": "code",
   "execution_count": 8,
   "id": "7beb4b9b-56a5-4021-b20d-f6e2769834ea",
   "metadata": {},
   "outputs": [],
   "source": [
    "viewer = napari.view_image(img)\n",
    "#new_layer = viewer.add_image(cp.asnumpy(gpu_locmax), opacity = 0.2, colormap = \"red\")\n",
    "new_layer = viewer.add_image(candmask_plot, opacity = 0.5, colormap = \"red\")\n"
   ]
  },
  {
   "cell_type": "code",
   "execution_count": 9,
   "id": "5cdbe27e-60f3-45d8-89cf-3d772c97bf06",
   "metadata": {},
   "outputs": [],
   "source": [
    "# with skimage maximum filter (returns coordinates, not pixels)\n",
    "locmax = skimage.feature.peak_local_max(cp.array(filtered), min_distance=0, footprint = foot).get()\n",
    "\n",
    "#create an empty boolean array of the dimensions of the source img\n",
    "localhigh = np.zeros_like(filtered, dtype=bool)\n",
    "\n",
    "# this will feed the coord to the empty mask\n",
    "localhigh[tuple(locmax.T)] = True"
   ]
  },
  {
   "cell_type": "code",
   "execution_count": 10,
   "id": "8385b500-1f7f-4962-a156-f04b2d136f56",
   "metadata": {},
   "outputs": [],
   "source": [
    "# label the local highs and inspect the seeds generated\n",
    "localhigh_img = ndi.label(cp.array(localhigh))[0].get()\n",
    "\n",
    "localhigh_img_plot = ndi.binary_dilation(cp.array(localhigh_img), structure = cp.ones((3,10,10))).get()"
   ]
  },
  {
   "cell_type": "code",
   "execution_count": 11,
   "id": "f001d83e-7ed6-4e88-9c33-74b429b2dbd6",
   "metadata": {},
   "outputs": [],
   "source": [
    "viewer = napari.view_image(img)\n",
    "new_layer = viewer.add_image(localhigh_img_plot, opacity = 0.2, colormap = \"red\")\n",
    "new_layer = viewer.add_image(localhigh_img, opacity = 0.2, colormap = \"red\")\n"
   ]
  },
  {
   "cell_type": "code",
   "execution_count": 12,
   "id": "b3dafa32-7832-4b40-ade4-fdca026ec7a3",
   "metadata": {},
   "outputs": [],
   "source": [
    "# make a helper function to span a box around a 3d pixel coordinate\n",
    "def seed_to_box(image, coords, npixels):\n",
    "    # subset the box and set pixels to ones\n",
    "    \n",
    "    # the desired box gets spanned in 2 directions, we need to half this\n",
    "    npixels = npixels//2\n",
    "    # image boundaries\n",
    "    boundaries = image.shape\n",
    "    \n",
    "    #print(boundaries)\n",
    "    zstart = coords[0] - npixels\n",
    "    zstop  = coords[0] + npixels\n",
    "    \n",
    "    xstart = coords[1] - npixels\n",
    "    xstop  = coords[1] + npixels\n",
    "    \n",
    "    ystart = coords[2] -npixels\n",
    "    ystop  = coords[2] + npixels\n",
    "    # set fallback if image borders are touched\n",
    "    if zstart < 0:\n",
    "        zstart = 0\n",
    "        \n",
    "    if xstart < 0:\n",
    "        xstart = 0\n",
    "    \n",
    "    if ystart < 0:\n",
    "        ystart = 0\n",
    "    \n",
    "    # set fallback for end being larger than image boundaries\n",
    "    if zstop > boundaries[0]:\n",
    "        zstop = boundaries[0]\n",
    "    \n",
    "    if xstop > boundaries[1]:\n",
    "        xstop = boundaries[1]\n",
    "    \n",
    "    if ystop > boundaries[2]:\n",
    "        ystop = boundaries[2]\n",
    "        \n",
    "    box = cp.zeros_like(image)\n",
    "    # switch on pixels in the box\n",
    "    box[zstart:zstop,xstart:xstop, ystart:ystop] = True \n",
    "    # push to mem and return\n",
    "    return np.array(box.get()).astype(bool)"
   ]
  },
  {
   "cell_type": "code",
   "execution_count": 13,
   "id": "5c7adfaf-a3de-450d-89ab-35b4b86ef154",
   "metadata": {},
   "outputs": [],
   "source": [
    "def seed_to_subset(image, coords, npixels):\n",
    "        \n",
    "    # the desired box gets spanned in 2 directions, we need to half this\n",
    "    npixels = npixels//2\n",
    "    # image boundaries\n",
    "    boundaries = image.shape\n",
    "    \n",
    "    #print(boundaries)\n",
    "    zstart = coords[0] - npixels\n",
    "    zstop  = coords[0] + npixels\n",
    "    \n",
    "    xstart = coords[1] - npixels\n",
    "    xstop  = coords[1] + npixels\n",
    "    \n",
    "    ystart = coords[2] -npixels\n",
    "    ystop  = coords[2] + npixels\n",
    "    # set fallback if image borders are touched\n",
    "    if zstart < 0:\n",
    "        zstart = 0\n",
    "        \n",
    "    if xstart < 0:\n",
    "        xstart = 0\n",
    "    \n",
    "    if ystart < 0:\n",
    "        ystart = 0\n",
    "    \n",
    "    # set fallback for end being larger than image boundaries\n",
    "    if zstop > boundaries[0]:\n",
    "        zstop = boundaries[0]\n",
    "    \n",
    "    if xstop > boundaries[1]:\n",
    "        xstop = boundaries[1]\n",
    "    \n",
    "    if ystop > boundaries[2]:\n",
    "        ystop = boundaries[2]\n",
    "        \n",
    "    # subset the image + return\n",
    "    imgbox = image[zstart:zstop,xstart:xstop, ystart:ystop]\n",
    "    return imgbox"
   ]
  },
  {
   "cell_type": "code",
   "execution_count": 14,
   "id": "0a150726-e9bc-479d-a3b7-1a9822f6ca7d",
   "metadata": {},
   "outputs": [],
   "source": [
    "subset = seed_to_subset(img, locmax[100], int(50//xystep))\n",
    "viewer = napari.view_image(subset)\n"
   ]
  },
  {
   "cell_type": "code",
   "execution_count": 15,
   "id": "5f336311-d787-4a62-929a-5e97f9d9f13f",
   "metadata": {},
   "outputs": [],
   "source": [
    "# test the functions\n",
    "viewer = napari.view_image(img)\n",
    "\n",
    "seed20 = seed_to_box(img, locmax[20] , 2//xystep)\n",
    "seed20box = seed_to_box(img, locmax[20] , 100//xystep)\n",
    "\n",
    "new_layer = viewer.add_image(seed20, opacity = 0.2, colormap = \"red\")\n",
    "new_layer = viewer.add_image(seed20box, opacity = 0.2, colormap = \"cyan\")"
   ]
  },
  {
   "cell_type": "code",
   "execution_count": 16,
   "id": "ca41741a-aecd-48af-8071-555e35c615bd",
   "metadata": {},
   "outputs": [],
   "source": [
    "# define a function that makes a local threshold\n",
    "def find_cell_thresh(image, seed, expandpix):\n",
    "    # subset the ROI and calulate thresh based on ROI\n",
    "    ROI = seed_to_subset(image, seed, expandpix)\n",
    "    Thresh = skimagecpu.filters.threshold_otsu(ROI)\n",
    "    return Thresh"
   ]
  },
  {
   "cell_type": "code",
   "execution_count": 17,
   "id": "6ad4d2cc-8e38-465b-bcf4-f215f462e2b9",
   "metadata": {},
   "outputs": [],
   "source": [
    "# define a function that fills a cell from a seed given a threshold\n",
    "# unfortunately to date floodfill is not yet implemented on cupy or cucim\n",
    "# use CPU\n",
    "import skimage.segmentation as CPU_segment"
   ]
  },
  {
   "cell_type": "code",
   "execution_count": 18,
   "id": "32171c96-61af-451f-b6f2-bfe61e8c16a8",
   "metadata": {},
   "outputs": [],
   "source": [
    "def detect_cell_thresh(image, seedcoord, thresh):\n",
    "    # push to GPU + create a binary image\n",
    "    image = cp.asarray(image)\n",
    "    bin_img = image > thresh\n",
    "    # floodfill the detected cell\n",
    "    floodseed = tuple((seedcoord[0],seedcoord[1],seedcoord[2]))\n",
    "    \n",
    "    bin_img_cpu = bin_img.get()\n",
    "    \n",
    "    cellimg = skimagecpu.segmentation.flood(bin_img_cpu,floodseed)\n",
    "    \n",
    "    return np.array(cellimg).astype(bool)"
   ]
  },
  {
   "cell_type": "code",
   "execution_count": 19,
   "id": "157813af-f8fc-427a-86df-b1c2115731d3",
   "metadata": {},
   "outputs": [
    {
     "data": {
      "text/plain": [
       "array([[[False, False, False, ..., False, False, False],\n",
       "        [False, False, False, ..., False, False, False],\n",
       "        [False, False, False, ..., False, False, False],\n",
       "        ...,\n",
       "        [False, False, False, ..., False, False, False],\n",
       "        [False, False, False, ..., False, False, False],\n",
       "        [False, False, False, ..., False, False, False]],\n",
       "\n",
       "       [[False, False, False, ..., False, False, False],\n",
       "        [False, False, False, ..., False, False, False],\n",
       "        [False, False, False, ..., False, False, False],\n",
       "        ...,\n",
       "        [False, False, False, ..., False, False, False],\n",
       "        [False, False, False, ..., False, False, False],\n",
       "        [False, False, False, ..., False, False, False]],\n",
       "\n",
       "       [[False, False, False, ..., False, False, False],\n",
       "        [False, False, False, ..., False, False, False],\n",
       "        [False, False, False, ..., False, False, False],\n",
       "        ...,\n",
       "        [False, False, False, ..., False, False, False],\n",
       "        [False, False, False, ..., False, False, False],\n",
       "        [False, False, False, ..., False, False, False]],\n",
       "\n",
       "       ...,\n",
       "\n",
       "       [[False, False, False, ..., False, False, False],\n",
       "        [False, False, False, ..., False, False, False],\n",
       "        [False, False, False, ..., False, False, False],\n",
       "        ...,\n",
       "        [False, False, False, ..., False, False, False],\n",
       "        [False, False, False, ..., False, False, False],\n",
       "        [False, False, False, ..., False, False, False]],\n",
       "\n",
       "       [[False, False, False, ..., False, False, False],\n",
       "        [False, False, False, ..., False, False, False],\n",
       "        [False, False, False, ..., False, False, False],\n",
       "        ...,\n",
       "        [False, False, False, ..., False, False, False],\n",
       "        [False, False, False, ..., False, False, False],\n",
       "        [False, False, False, ..., False, False, False]],\n",
       "\n",
       "       [[False, False, False, ..., False, False, False],\n",
       "        [False, False, False, ..., False, False, False],\n",
       "        [False, False, False, ..., False, False, False],\n",
       "        ...,\n",
       "        [False, False, False, ..., False, False, False],\n",
       "        [False, False, False, ..., False, False, False],\n",
       "        [False, False, False, ..., False, False, False]]])"
      ]
     },
     "execution_count": 19,
     "metadata": {},
     "output_type": "execute_result"
    }
   ],
   "source": [
    "# test the function\n",
    "detect_cell_thresh(img, locmax[100], 900)"
   ]
  },
  {
   "cell_type": "code",
   "execution_count": 20,
   "id": "00040f9f-91c2-428d-8533-3e0eec639a00",
   "metadata": {},
   "outputs": [
    {
     "name": "stdout",
     "output_type": "stream",
     "text": [
      "tolerance 1 SD is from 17940 to 88462 voxels\n",
      "tolerance 0.5 SD is from 35570.5 to 70831.5 voxels\n",
      "tolerance 2 SD is from -17321 to 123723 voxels\n"
     ]
    }
   ],
   "source": [
    "# define a function that adjusts the contrast until a target pixel number (volume) is reached\n",
    "# in sams data (by hand) cell volume varies from ~300-3500 (more than 90% coverage)\n",
    "# 1207um**3 +/- SD 803um**3 \n",
    "# 1pixel has the volume\n",
    "\n",
    "meanvol = int(1207/pixvol)\n",
    "sdvol = int((800/pixvol))\n",
    "print(\"tolerance 1 SD is from\", meanvol-sdvol, \"to\", meanvol + sdvol, \"voxels\")\n",
    "print(\"tolerance 0.5 SD is from\", meanvol-0.5*sdvol, \"to\", meanvol + 0.5*sdvol, \"voxels\")\n",
    "print(\"tolerance 2 SD is from\", meanvol-2*sdvol, \"to\", meanvol + 2*sdvol, \"voxels\")"
   ]
  },
  {
   "cell_type": "code",
   "execution_count": 52,
   "id": "9280942e-f28d-419e-a33c-74b2342ba3b4",
   "metadata": {},
   "outputs": [],
   "source": [
    "# iterative cell detection\n",
    "def detect_cell_iter(image, seedcoord, expandpix, vlow, vhigh):\n",
    "    \n",
    "    # setup a threshold for the iterating, start with a little less than Otsu\n",
    "    # this way it reduces the volume from a too large fit\n",
    "    thresh_iter = find_cell_thresh(image, seedcoord, expandpix)*0.6\n",
    "    void_mask = cp.zeros_like(image)\n",
    "    \n",
    "    # get the candidate cell mask\n",
    "    CCM = detect_cell_thresh(image, seedcoord, thresh_iter)\n",
    "    # count the number of pixels in the mask (volume)\n",
    "    vol = cp.count_nonzero(cp.asarray(CCM))\n",
    "    \n",
    "    n_tries = 1\n",
    "    # if the volume is within the tolerance, return the mask\n",
    "    if (vol < vhigh and vol >vlow):\n",
    "        print(\"done in one go, memory used: \", getGPUmem())\n",
    "        return CCM\n",
    "    \n",
    "    # while the number of pixels is outside the tolerance\n",
    "    while not(vol < vhigh and vol >vlow):\n",
    "        # if the volume is larger than target interval set threshold to previous*1.x\n",
    "        if vol > vhigh:\n",
    "            #print(\"too large\")\n",
    "            thresh_iter = thresh_iter*1.2\n",
    "            n_tries = n_tries + 1\n",
    "            CCM = detect_cell_thresh(image, seedcoord, thresh_iter)\n",
    "            #update volume\n",
    "            vol = cp.count_nonzero(cp.asarray(CCM))\n",
    "            \n",
    "        # if the volume is below target interval set threshold to previous*0.x\n",
    "        if vol < vlow:\n",
    "            #print(\"too small\")\n",
    "            thresh_iter = thresh_iter*0.8\n",
    "            n_tries = n_tries + 1\n",
    "            CCM = detect_cell_thresh(image, seedcoord, thresh_iter)\n",
    "            #update volume\n",
    "            vol = cp.count_nonzero(cp.asarray(CCM))\n",
    "            \n",
    "        # if the number of iterations is high and the cellmask is tiny than an absolute minimum, break and return empty mask\n",
    "        if (vol < vlow and n_tries > 10):\n",
    "            #print(\"Bad seed: Just a specle, memory used: \", getGPUmem())\n",
    "            return void_mask.get()\n",
    "        \n",
    "        # if the number of iterations is high and the cell mask is massive, the seed is on the bg, break and return empty mask\n",
    "        if (vol > vhigh*3 and n_tries > 10):\n",
    "            #print(\"Bad seed: bg pixel, memory used: \", getGPUmem())\n",
    "            return void_mask.get()\n",
    "        \n",
    "        # if a reasonable volume is found return it\n",
    "        if (vol < vhigh and vol >vlow):\n",
    "            #print(\"Found mask in\", n_tries, \"iterations, memory used: \", getGPUmem())\n",
    "            return CCM\n",
    "        \n",
    "        # if no solution is found (bouncing right between to high and too low)\n",
    "        if (vol > vhigh and n_tries > 20):\n",
    "            #print(\"Bad seed: Cant find a solution\")\n",
    "            return void_mask.get()\n",
    "        if (vol < vlow and n_tries > 20):\n",
    "            #print(\"Bad seed: Cant find a solution\")\n",
    "            return void_mask.get()"
   ]
  },
  {
   "cell_type": "code",
   "execution_count": 51,
   "id": "22169413-e3b5-42ad-bcbd-3771859323fa",
   "metadata": {},
   "outputs": [
    {
     "name": "stderr",
     "output_type": "stream",
     "text": [
      "  0%|▏                                                                       | 1/555 [00:01<18:18,  1.98s/it]"
     ]
    },
    {
     "name": "stdout",
     "output_type": "stream",
     "text": [
      "done in one go, memory used:  0.7227937868933049\n"
     ]
    },
    {
     "name": "stderr",
     "output_type": "stream",
     "text": [
      "  0%|▎                                                                       | 2/555 [00:02<11:22,  1.23s/it]"
     ]
    },
    {
     "name": "stdout",
     "output_type": "stream",
     "text": [
      "done in one go, memory used:  0.7227937868933049\n"
     ]
    },
    {
     "name": "stderr",
     "output_type": "stream",
     "text": [
      "  1%|▍                                                                       | 3/555 [00:05<17:15,  1.88s/it]"
     ]
    },
    {
     "name": "stdout",
     "output_type": "stream",
     "text": [
      "done in one go, memory used:  0.7227937868933049\n"
     ]
    },
    {
     "name": "stderr",
     "output_type": "stream",
     "text": [
      "  1%|▌                                                                       | 4/555 [00:06<13:07,  1.43s/it]"
     ]
    },
    {
     "name": "stdout",
     "output_type": "stream",
     "text": [
      "done in one go, memory used:  0.7227937868933049\n",
      "too large\n"
     ]
    },
    {
     "name": "stderr",
     "output_type": "stream",
     "text": [
      "  1%|▌                                                                       | 4/555 [00:09<21:22,  2.33s/it]\n"
     ]
    },
    {
     "ename": "KeyboardInterrupt",
     "evalue": "",
     "output_type": "error",
     "traceback": [
      "\u001b[0;31m---------------------------------------------------------------------------\u001b[0m",
      "\u001b[0;31mKeyboardInterrupt\u001b[0m                         Traceback (most recent call last)",
      "Input \u001b[0;32mIn [51]\u001b[0m, in \u001b[0;36m<cell line: 3>\u001b[0;34m()\u001b[0m\n\u001b[1;32m      1\u001b[0m allcells_mask \u001b[38;5;241m=\u001b[39m np\u001b[38;5;241m.\u001b[39mzeros_like(img)\n\u001b[1;32m      3\u001b[0m \u001b[38;5;28;01mfor\u001b[39;00m i_cell \u001b[38;5;129;01min\u001b[39;00m tqdm(\u001b[38;5;28mrange\u001b[39m(locmax\u001b[38;5;241m.\u001b[39mshape[\u001b[38;5;241m0\u001b[39m])):\n\u001b[0;32m----> 4\u001b[0m     cellmask \u001b[38;5;241m=\u001b[39m \u001b[43mdetect_cell_iter\u001b[49m\u001b[43m(\u001b[49m\u001b[43mimg\u001b[49m\u001b[43m,\u001b[49m\u001b[43m                    \u001b[49m\n\u001b[1;32m      5\u001b[0m \u001b[43m                     \u001b[49m\u001b[43mlocmax\u001b[49m\u001b[43m[\u001b[49m\u001b[43mi_cell\u001b[49m\u001b[43m]\u001b[49m\u001b[43m,\u001b[49m\n\u001b[1;32m      6\u001b[0m \u001b[43m                     \u001b[49m\u001b[38;5;28;43mint\u001b[39;49m\u001b[43m(\u001b[49m\u001b[38;5;241;43m50\u001b[39;49m\u001b[38;5;241;43m/\u001b[39;49m\u001b[38;5;241;43m/\u001b[39;49m\u001b[43mxystep\u001b[49m\u001b[43m)\u001b[49m\u001b[43m,\u001b[49m\n\u001b[1;32m      7\u001b[0m \u001b[43m                     \u001b[49m\u001b[38;5;241;43m17940\u001b[39;49m\u001b[43m,\u001b[49m\n\u001b[1;32m      8\u001b[0m \u001b[43m                     \u001b[49m\u001b[38;5;241;43m123723\u001b[39;49m\u001b[43m)\u001b[49m\n\u001b[1;32m     10\u001b[0m     \u001b[38;5;66;03m# update the complete mask\u001b[39;00m\n\u001b[1;32m     11\u001b[0m     allcells_mask \u001b[38;5;241m=\u001b[39m  allcells_mask \u001b[38;5;241m+\u001b[39m cellmask\n",
      "Input \u001b[0;32mIn [50]\u001b[0m, in \u001b[0;36mdetect_cell_iter\u001b[0;34m(image, seedcoord, expandpix, vlow, vhigh)\u001b[0m\n\u001b[1;32m     25\u001b[0m thresh_iter \u001b[38;5;241m=\u001b[39m thresh_iter\u001b[38;5;241m*\u001b[39m\u001b[38;5;241m1.2\u001b[39m\n\u001b[1;32m     26\u001b[0m n_tries \u001b[38;5;241m=\u001b[39m n_tries \u001b[38;5;241m+\u001b[39m \u001b[38;5;241m1\u001b[39m\n\u001b[0;32m---> 27\u001b[0m CCM \u001b[38;5;241m=\u001b[39m \u001b[43mdetect_cell_thresh\u001b[49m\u001b[43m(\u001b[49m\u001b[43mimage\u001b[49m\u001b[43m,\u001b[49m\u001b[43m \u001b[49m\u001b[43mseedcoord\u001b[49m\u001b[43m,\u001b[49m\u001b[43m \u001b[49m\u001b[43mthresh_iter\u001b[49m\u001b[43m)\u001b[49m\n\u001b[1;32m     28\u001b[0m \u001b[38;5;66;03m#update volume\u001b[39;00m\n\u001b[1;32m     29\u001b[0m vol \u001b[38;5;241m=\u001b[39m cp\u001b[38;5;241m.\u001b[39mcount_nonzero(cp\u001b[38;5;241m.\u001b[39masarray(CCM))\n",
      "Input \u001b[0;32mIn [18]\u001b[0m, in \u001b[0;36mdetect_cell_thresh\u001b[0;34m(image, seedcoord, thresh)\u001b[0m\n\u001b[1;32m      8\u001b[0m bin_img_cpu \u001b[38;5;241m=\u001b[39m bin_img\u001b[38;5;241m.\u001b[39mget()\n\u001b[1;32m     10\u001b[0m cellimg \u001b[38;5;241m=\u001b[39m skimagecpu\u001b[38;5;241m.\u001b[39msegmentation\u001b[38;5;241m.\u001b[39mflood(bin_img_cpu,floodseed)\n\u001b[0;32m---> 12\u001b[0m \u001b[38;5;28;01mreturn\u001b[39;00m \u001b[43mnp\u001b[49m\u001b[38;5;241;43m.\u001b[39;49m\u001b[43marray\u001b[49m\u001b[43m(\u001b[49m\u001b[43mcellimg\u001b[49m\u001b[43m)\u001b[49m\u001b[38;5;241;43m.\u001b[39;49m\u001b[43mastype\u001b[49m\u001b[43m(\u001b[49m\u001b[38;5;28;43mbool\u001b[39;49m\u001b[43m)\u001b[49m\n",
      "\u001b[0;31mKeyboardInterrupt\u001b[0m: "
     ]
    }
   ],
   "source": [
    "allcells_mask = np.zeros_like(img)\n",
    "\n",
    "for i_cell in tqdm(range(locmax.shape[0])):\n",
    "    cellmask = detect_cell_iter(img,                    \n",
    "                     locmax[i_cell],\n",
    "                     int(50//xystep),\n",
    "                     17940,\n",
    "                     123723)\n",
    "        \n",
    "    # update the complete mask\n",
    "    allcells_mask =  allcells_mask + cellmask "
   ]
  },
  {
   "cell_type": "code",
   "execution_count": 23,
   "id": "97dc614d-655f-4f75-a1bf-03724193f45e",
   "metadata": {},
   "outputs": [],
   "source": [
    "#allcells_mask = allcells_mask.get()"
   ]
  },
  {
   "cell_type": "code",
   "execution_count": 24,
   "id": "6c700396-dfe0-4c6f-8e76-aea586680426",
   "metadata": {},
   "outputs": [
    {
     "ename": "NameError",
     "evalue": "name 'allcells_mask' is not defined",
     "output_type": "error",
     "traceback": [
      "\u001b[0;31m---------------------------------------------------------------------------\u001b[0m",
      "\u001b[0;31mNameError\u001b[0m                                 Traceback (most recent call last)",
      "Input \u001b[0;32mIn [24]\u001b[0m, in \u001b[0;36m<cell line: 3>\u001b[0;34m()\u001b[0m\n\u001b[1;32m      1\u001b[0m viewer \u001b[38;5;241m=\u001b[39m napari\u001b[38;5;241m.\u001b[39mview_image(img)\n\u001b[0;32m----> 3\u001b[0m new_layer \u001b[38;5;241m=\u001b[39m viewer\u001b[38;5;241m.\u001b[39madd_image(\u001b[43mallcells_mask\u001b[49m, opacity \u001b[38;5;241m=\u001b[39m \u001b[38;5;241m0.2\u001b[39m, colormap \u001b[38;5;241m=\u001b[39m \u001b[38;5;124m\"\u001b[39m\u001b[38;5;124mmagma\u001b[39m\u001b[38;5;124m\"\u001b[39m)\n",
      "\u001b[0;31mNameError\u001b[0m: name 'allcells_mask' is not defined"
     ]
    }
   ],
   "source": [
    "viewer = napari.view_image(img)\n",
    "\n",
    "new_layer = viewer.add_image(allcells_mask, opacity = 0.2, colormap = \"magma\")\n"
   ]
  },
  {
   "cell_type": "markdown",
   "id": "22641f98-270b-4a0d-a872-e35278d1fadb",
   "metadata": {},
   "source": [
    "The loop above becomes slower the longer it runs, I assume because of memory issues.\n",
    "Alternatively, just write the binary image to file."
   ]
  },
  {
   "cell_type": "code",
   "execution_count": null,
   "id": "86d42173-6fa8-46d3-9dfa-13a696a1b601",
   "metadata": {},
   "outputs": [],
   "source": [
    "#create a directory for results\n",
    "#os.mkdir(\"results\")\n"
   ]
  },
  {
   "cell_type": "code",
   "execution_count": 26,
   "id": "f666fc4c-d4ec-49b5-949d-f3477385b04d",
   "metadata": {},
   "outputs": [
    {
     "name": "stderr",
     "output_type": "stream",
     "text": [
      "  0%|                                                                                | 0/555 [00:00<?, ?it/s]/tmp/ipykernel_15091/3174746727.py:10: UserWarning: ./results/C2-220421 otof_iba slide002 mouse195 005_0.tiff is a low contrast image\n",
      "  skimagecpu.io.imsave(iterfile, cellmask.astype(int))\n",
      "  0%|▏                                                                     | 1/555 [00:23<3:40:34, 23.89s/it]/tmp/ipykernel_15091/3174746727.py:10: UserWarning: ./results/C2-220421 otof_iba slide002 mouse195 005_1.tiff is a low contrast image\n",
      "  skimagecpu.io.imsave(iterfile, cellmask.astype(int))\n",
      "  0%|▎                                                                     | 2/555 [00:28<1:56:57, 12.69s/it]/tmp/ipykernel_15091/3174746727.py:10: UserWarning: ./results/C2-220421 otof_iba slide002 mouse195 005_2.tiff is a low contrast image\n",
      "  skimagecpu.io.imsave(iterfile, cellmask.astype(int))\n",
      "  1%|▍                                                                     | 3/555 [00:34<1:29:17,  9.71s/it]/tmp/ipykernel_15091/3174746727.py:10: UserWarning: ./results/C2-220421 otof_iba slide002 mouse195 005_3.tiff is a low contrast image\n",
      "  skimagecpu.io.imsave(iterfile, cellmask.astype(int))\n",
      "  1%|▌                                                                     | 4/555 [00:41<1:19:09,  8.62s/it]/tmp/ipykernel_15091/3174746727.py:10: UserWarning: ./results/C2-220421 otof_iba slide002 mouse195 005_4.tiff is a low contrast image\n",
      "  skimagecpu.io.imsave(iterfile, cellmask.astype(int))\n",
      "  1%|▋                                                                     | 5/555 [00:51<1:34:33, 10.32s/it]\n"
     ]
    },
    {
     "ename": "KeyboardInterrupt",
     "evalue": "",
     "output_type": "error",
     "traceback": [
      "\u001b[0;31m---------------------------------------------------------------------------\u001b[0m",
      "\u001b[0;31mKeyboardInterrupt\u001b[0m                         Traceback (most recent call last)",
      "Input \u001b[0;32mIn [26]\u001b[0m, in \u001b[0;36m<cell line: 1>\u001b[0;34m()\u001b[0m\n\u001b[1;32m      8\u001b[0m \u001b[38;5;66;03m# write mask to file\u001b[39;00m\n\u001b[1;32m      9\u001b[0m iterfile \u001b[38;5;241m=\u001b[39m \u001b[38;5;124m\"\u001b[39m\u001b[38;5;124m./results/\u001b[39m\u001b[38;5;124m\"\u001b[39m\u001b[38;5;241m+\u001b[39mos\u001b[38;5;241m.\u001b[39mpath\u001b[38;5;241m.\u001b[39msplitext(testimage)[\u001b[38;5;241m0\u001b[39m]\u001b[38;5;241m+\u001b[39m\u001b[38;5;124m\"\u001b[39m\u001b[38;5;124m_\u001b[39m\u001b[38;5;124m\"\u001b[39m\u001b[38;5;241m+\u001b[39m\u001b[38;5;28mstr\u001b[39m(i_cell)\u001b[38;5;241m+\u001b[39m\u001b[38;5;124m\"\u001b[39m\u001b[38;5;124m.tiff\u001b[39m\u001b[38;5;124m\"\u001b[39m\n\u001b[0;32m---> 10\u001b[0m \u001b[43mskimagecpu\u001b[49m\u001b[38;5;241;43m.\u001b[39;49m\u001b[43mio\u001b[49m\u001b[38;5;241;43m.\u001b[39;49m\u001b[43mimsave\u001b[49m\u001b[43m(\u001b[49m\u001b[43miterfile\u001b[49m\u001b[43m,\u001b[49m\u001b[43m \u001b[49m\u001b[43mcellmask\u001b[49m\u001b[38;5;241;43m.\u001b[39;49m\u001b[43mastype\u001b[49m\u001b[43m(\u001b[49m\u001b[38;5;28;43mint\u001b[39;49m\u001b[43m)\u001b[49m\u001b[43m)\u001b[49m\n",
      "File \u001b[0;32m~/anaconda3/envs/img-crunch/lib/python3.9/site-packages/skimage/io/_io.py:141\u001b[0m, in \u001b[0;36mimsave\u001b[0;34m(fname, arr, plugin, check_contrast, **plugin_args)\u001b[0m\n\u001b[1;32m    137\u001b[0m     warn(\u001b[38;5;124m'\u001b[39m\u001b[38;5;132;01m%s\u001b[39;00m\u001b[38;5;124m is a boolean image: setting True to 255 and False to 0. \u001b[39m\u001b[38;5;124m'\u001b[39m\n\u001b[1;32m    138\u001b[0m          \u001b[38;5;124m'\u001b[39m\u001b[38;5;124mTo silence this warning, please convert the image using \u001b[39m\u001b[38;5;124m'\u001b[39m\n\u001b[1;32m    139\u001b[0m          \u001b[38;5;124m'\u001b[39m\u001b[38;5;124mimg_as_ubyte.\u001b[39m\u001b[38;5;124m'\u001b[39m \u001b[38;5;241m%\u001b[39m fname, stacklevel\u001b[38;5;241m=\u001b[39m\u001b[38;5;241m2\u001b[39m)\n\u001b[1;32m    140\u001b[0m     arr \u001b[38;5;241m=\u001b[39m arr\u001b[38;5;241m.\u001b[39mastype(\u001b[38;5;124m'\u001b[39m\u001b[38;5;124muint8\u001b[39m\u001b[38;5;124m'\u001b[39m) \u001b[38;5;241m*\u001b[39m \u001b[38;5;241m255\u001b[39m\n\u001b[0;32m--> 141\u001b[0m \u001b[38;5;28;01mif\u001b[39;00m check_contrast \u001b[38;5;129;01mand\u001b[39;00m \u001b[43mis_low_contrast\u001b[49m\u001b[43m(\u001b[49m\u001b[43marr\u001b[49m\u001b[43m)\u001b[49m:\n\u001b[1;32m    142\u001b[0m     warn(\u001b[38;5;124m'\u001b[39m\u001b[38;5;132;01m%s\u001b[39;00m\u001b[38;5;124m is a low contrast image\u001b[39m\u001b[38;5;124m'\u001b[39m \u001b[38;5;241m%\u001b[39m fname)\n\u001b[1;32m    143\u001b[0m \u001b[38;5;28;01mreturn\u001b[39;00m call_plugin(\u001b[38;5;124m'\u001b[39m\u001b[38;5;124mimsave\u001b[39m\u001b[38;5;124m'\u001b[39m, fname, arr, plugin\u001b[38;5;241m=\u001b[39mplugin, \u001b[38;5;241m*\u001b[39m\u001b[38;5;241m*\u001b[39mplugin_args)\n",
      "File \u001b[0;32m~/anaconda3/envs/img-crunch/lib/python3.9/site-packages/skimage/exposure/exposure.py:836\u001b[0m, in \u001b[0;36mis_low_contrast\u001b[0;34m(image, fraction_threshold, lower_percentile, upper_percentile, method)\u001b[0m\n\u001b[1;32m    833\u001b[0m         image \u001b[38;5;241m=\u001b[39m rgb2gray(image)\n\u001b[1;32m    835\u001b[0m dlimits \u001b[38;5;241m=\u001b[39m dtype_limits(image, clip_negative\u001b[38;5;241m=\u001b[39m\u001b[38;5;28;01mFalse\u001b[39;00m)\n\u001b[0;32m--> 836\u001b[0m limits \u001b[38;5;241m=\u001b[39m \u001b[43mnp\u001b[49m\u001b[38;5;241;43m.\u001b[39;49m\u001b[43mpercentile\u001b[49m\u001b[43m(\u001b[49m\u001b[43mimage\u001b[49m\u001b[43m,\u001b[49m\u001b[43m \u001b[49m\u001b[43m[\u001b[49m\u001b[43mlower_percentile\u001b[49m\u001b[43m,\u001b[49m\u001b[43m \u001b[49m\u001b[43mupper_percentile\u001b[49m\u001b[43m]\u001b[49m\u001b[43m)\u001b[49m\n\u001b[1;32m    837\u001b[0m ratio \u001b[38;5;241m=\u001b[39m (limits[\u001b[38;5;241m1\u001b[39m] \u001b[38;5;241m-\u001b[39m limits[\u001b[38;5;241m0\u001b[39m]) \u001b[38;5;241m/\u001b[39m (dlimits[\u001b[38;5;241m1\u001b[39m] \u001b[38;5;241m-\u001b[39m dlimits[\u001b[38;5;241m0\u001b[39m])\n\u001b[1;32m    839\u001b[0m \u001b[38;5;28;01mreturn\u001b[39;00m ratio \u001b[38;5;241m<\u001b[39m fraction_threshold\n",
      "File \u001b[0;32m<__array_function__ internals>:5\u001b[0m, in \u001b[0;36mpercentile\u001b[0;34m(*args, **kwargs)\u001b[0m\n",
      "File \u001b[0;32m~/anaconda3/envs/img-crunch/lib/python3.9/site-packages/numpy/lib/function_base.py:3867\u001b[0m, in \u001b[0;36mpercentile\u001b[0;34m(a, q, axis, out, overwrite_input, interpolation, keepdims)\u001b[0m\n\u001b[1;32m   3865\u001b[0m \u001b[38;5;28;01mif\u001b[39;00m \u001b[38;5;129;01mnot\u001b[39;00m _quantile_is_valid(q):\n\u001b[1;32m   3866\u001b[0m     \u001b[38;5;28;01mraise\u001b[39;00m \u001b[38;5;167;01mValueError\u001b[39;00m(\u001b[38;5;124m\"\u001b[39m\u001b[38;5;124mPercentiles must be in the range [0, 100]\u001b[39m\u001b[38;5;124m\"\u001b[39m)\n\u001b[0;32m-> 3867\u001b[0m \u001b[38;5;28;01mreturn\u001b[39;00m \u001b[43m_quantile_unchecked\u001b[49m\u001b[43m(\u001b[49m\n\u001b[1;32m   3868\u001b[0m \u001b[43m    \u001b[49m\u001b[43ma\u001b[49m\u001b[43m,\u001b[49m\u001b[43m \u001b[49m\u001b[43mq\u001b[49m\u001b[43m,\u001b[49m\u001b[43m \u001b[49m\u001b[43maxis\u001b[49m\u001b[43m,\u001b[49m\u001b[43m \u001b[49m\u001b[43mout\u001b[49m\u001b[43m,\u001b[49m\u001b[43m \u001b[49m\u001b[43moverwrite_input\u001b[49m\u001b[43m,\u001b[49m\u001b[43m \u001b[49m\u001b[43minterpolation\u001b[49m\u001b[43m,\u001b[49m\u001b[43m \u001b[49m\u001b[43mkeepdims\u001b[49m\u001b[43m)\u001b[49m\n",
      "File \u001b[0;32m~/anaconda3/envs/img-crunch/lib/python3.9/site-packages/numpy/lib/function_base.py:3986\u001b[0m, in \u001b[0;36m_quantile_unchecked\u001b[0;34m(a, q, axis, out, overwrite_input, interpolation, keepdims)\u001b[0m\n\u001b[1;32m   3983\u001b[0m \u001b[38;5;28;01mdef\u001b[39;00m \u001b[38;5;21m_quantile_unchecked\u001b[39m(a, q, axis\u001b[38;5;241m=\u001b[39m\u001b[38;5;28;01mNone\u001b[39;00m, out\u001b[38;5;241m=\u001b[39m\u001b[38;5;28;01mNone\u001b[39;00m, overwrite_input\u001b[38;5;241m=\u001b[39m\u001b[38;5;28;01mFalse\u001b[39;00m,\n\u001b[1;32m   3984\u001b[0m                         interpolation\u001b[38;5;241m=\u001b[39m\u001b[38;5;124m'\u001b[39m\u001b[38;5;124mlinear\u001b[39m\u001b[38;5;124m'\u001b[39m, keepdims\u001b[38;5;241m=\u001b[39m\u001b[38;5;28;01mFalse\u001b[39;00m):\n\u001b[1;32m   3985\u001b[0m     \u001b[38;5;124;03m\"\"\"Assumes that q is in [0, 1], and is an ndarray\"\"\"\u001b[39;00m\n\u001b[0;32m-> 3986\u001b[0m     r, k \u001b[38;5;241m=\u001b[39m \u001b[43m_ureduce\u001b[49m\u001b[43m(\u001b[49m\u001b[43ma\u001b[49m\u001b[43m,\u001b[49m\u001b[43m \u001b[49m\u001b[43mfunc\u001b[49m\u001b[38;5;241;43m=\u001b[39;49m\u001b[43m_quantile_ureduce_func\u001b[49m\u001b[43m,\u001b[49m\u001b[43m \u001b[49m\u001b[43mq\u001b[49m\u001b[38;5;241;43m=\u001b[39;49m\u001b[43mq\u001b[49m\u001b[43m,\u001b[49m\u001b[43m \u001b[49m\u001b[43maxis\u001b[49m\u001b[38;5;241;43m=\u001b[39;49m\u001b[43maxis\u001b[49m\u001b[43m,\u001b[49m\u001b[43m \u001b[49m\u001b[43mout\u001b[49m\u001b[38;5;241;43m=\u001b[39;49m\u001b[43mout\u001b[49m\u001b[43m,\u001b[49m\n\u001b[1;32m   3987\u001b[0m \u001b[43m                    \u001b[49m\u001b[43moverwrite_input\u001b[49m\u001b[38;5;241;43m=\u001b[39;49m\u001b[43moverwrite_input\u001b[49m\u001b[43m,\u001b[49m\n\u001b[1;32m   3988\u001b[0m \u001b[43m                    \u001b[49m\u001b[43minterpolation\u001b[49m\u001b[38;5;241;43m=\u001b[39;49m\u001b[43minterpolation\u001b[49m\u001b[43m)\u001b[49m\n\u001b[1;32m   3989\u001b[0m     \u001b[38;5;28;01mif\u001b[39;00m keepdims:\n\u001b[1;32m   3990\u001b[0m         \u001b[38;5;28;01mreturn\u001b[39;00m r\u001b[38;5;241m.\u001b[39mreshape(q\u001b[38;5;241m.\u001b[39mshape \u001b[38;5;241m+\u001b[39m k)\n",
      "File \u001b[0;32m~/anaconda3/envs/img-crunch/lib/python3.9/site-packages/numpy/lib/function_base.py:3564\u001b[0m, in \u001b[0;36m_ureduce\u001b[0;34m(a, func, **kwargs)\u001b[0m\n\u001b[1;32m   3561\u001b[0m \u001b[38;5;28;01melse\u001b[39;00m:\n\u001b[1;32m   3562\u001b[0m     keepdim \u001b[38;5;241m=\u001b[39m (\u001b[38;5;241m1\u001b[39m,) \u001b[38;5;241m*\u001b[39m a\u001b[38;5;241m.\u001b[39mndim\n\u001b[0;32m-> 3564\u001b[0m r \u001b[38;5;241m=\u001b[39m \u001b[43mfunc\u001b[49m\u001b[43m(\u001b[49m\u001b[43ma\u001b[49m\u001b[43m,\u001b[49m\u001b[43m \u001b[49m\u001b[38;5;241;43m*\u001b[39;49m\u001b[38;5;241;43m*\u001b[39;49m\u001b[43mkwargs\u001b[49m\u001b[43m)\u001b[49m\n\u001b[1;32m   3565\u001b[0m \u001b[38;5;28;01mreturn\u001b[39;00m r, keepdim\n",
      "File \u001b[0;32m~/anaconda3/envs/img-crunch/lib/python3.9/site-packages/numpy/lib/function_base.py:4036\u001b[0m, in \u001b[0;36m_quantile_ureduce_func\u001b[0;34m(a, q, axis, out, overwrite_input, interpolation, keepdims)\u001b[0m\n\u001b[1;32m   4034\u001b[0m \u001b[38;5;28;01melse\u001b[39;00m:\n\u001b[1;32m   4035\u001b[0m     \u001b[38;5;28;01mif\u001b[39;00m axis \u001b[38;5;129;01mis\u001b[39;00m \u001b[38;5;28;01mNone\u001b[39;00m:\n\u001b[0;32m-> 4036\u001b[0m         ap \u001b[38;5;241m=\u001b[39m \u001b[43ma\u001b[49m\u001b[38;5;241;43m.\u001b[39;49m\u001b[43mflatten\u001b[49m\u001b[43m(\u001b[49m\u001b[43m)\u001b[49m\n\u001b[1;32m   4037\u001b[0m     \u001b[38;5;28;01melse\u001b[39;00m:\n\u001b[1;32m   4038\u001b[0m         ap \u001b[38;5;241m=\u001b[39m a\u001b[38;5;241m.\u001b[39mcopy()\n",
      "\u001b[0;31mKeyboardInterrupt\u001b[0m: "
     ]
    }
   ],
   "source": [
    "for i_cell in tqdm(range(locmax.shape[0])):\n",
    "    cellmask = detect_cell_iter(img,                    \n",
    "                     locmax[i_cell],\n",
    "                     int(50//xystep),\n",
    "                     17940,\n",
    "                     123723)\n",
    "    \n",
    "    # write mask to file\n",
    "    iterfile = \"./results/\"+os.path.splitext(testimage)[0]+\"_\"+str(i_cell)+\".tiff\"\n",
    "    skimagecpu.io.imsave(iterfile, cellmask.astype(int))\n",
    " "
   ]
  },
  {
   "cell_type": "code",
   "execution_count": null,
   "id": "e564a994-c8ec-4b87-ad56-20bd0617e82b",
   "metadata": {},
   "outputs": [],
   "source": []
  },
  {
   "cell_type": "code",
   "execution_count": null,
   "id": "2fc972c4-1252-4c70-be22-042baa72183a",
   "metadata": {},
   "outputs": [],
   "source": []
  }
 ],
 "metadata": {
  "kernelspec": {
   "display_name": "Python 3 (ipykernel)",
   "language": "python",
   "name": "python3"
  },
  "language_info": {
   "codemirror_mode": {
    "name": "ipython",
    "version": 3
   },
   "file_extension": ".py",
   "mimetype": "text/x-python",
   "name": "python",
   "nbconvert_exporter": "python",
   "pygments_lexer": "ipython3",
   "version": "3.9.12"
  }
 },
 "nbformat": 4,
 "nbformat_minor": 5
}
